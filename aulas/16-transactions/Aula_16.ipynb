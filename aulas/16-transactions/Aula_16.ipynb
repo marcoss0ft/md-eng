{
 "cells": [
  {
   "cell_type": "markdown",
   "metadata": {},
   "source": [
    "# Transactions"
   ]
  },
  {
   "cell_type": "markdown",
   "metadata": {},
   "source": [
    "Desejamos construir uma aplicação de empréstimos peer-to-peer simples. Nesta aplicação os usuários podem:\n",
    " \n",
    "- Depositar uma certa quantia em sua conta;\n",
    "- Sacar da conta, desde que tenham saldo;\n",
    "- Criar um \"emprestimo\" (mais como uma linha de credito, realmente) entre dois usuarios\n",
    "- Pagar (parcial ou totalmente) um emprestimo\n",
    "- Tomar mais dinheiro ainda de um emprestimo (ou linha de credito)\n",
    "\n",
    "Mais ainda, temos o requisito de que todas as operações devem ser armazenadas no banco de dados.\n",
    "\n",
    "Vamos agrupar esses requerimentos como segue:\n",
    "\n",
    "- **Movimentação de conta**: depositar ou sacar da conta;\n",
    "- **Criação de empréstimo**: disponibilizar uma linha de credito (sem nenhum dinheiro transferido ser necessariamente transferido);\n",
    "- **Operação em empréstimo**:\n",
    "    - **adicionar valor** (como quando o devedor saca da linha de credito, ou quando os juros são computados):\n",
    "        - Deve gerar duas movimentacões:\n",
    "            - Depósito no devedor;\n",
    "            - Saque no credor;\n",
    "    - **remover valor** (como quando o devedor paga alguma quantia):\n",
    "        - Deve gerar duas movimentacões:\n",
    "            - Saque no devedor;\n",
    "            - Depósito no credor."
   ]
  },
  {
   "cell_type": "markdown",
   "metadata": {},
   "source": [
    "A modelagem relacional deste problema resultou no seguinte diagrama:\n",
    "\n",
    "<img src='img/diagrama.png' alt='Diagrama do modelo relacional' style='width: 500px;'/>"
   ]
  },
  {
   "cell_type": "markdown",
   "metadata": {},
   "source": [
    "que traduzimos no script de criação da base de dados como segue:\n",
    "\n",
    "---\n",
    "```SQL\n",
    "DROP DATABASE IF EXISTS emprestimos;\n",
    "CREATE DATABASE emprestimos;\n",
    "USE emprestimos;\n",
    "\n",
    "CREATE TABLE usuario (\n",
    "    id_usuario INT NOT NULL AUTO_INCREMENT,\n",
    "    nome VARCHAR(80) NOT NULL,\n",
    "    sobrenome VARCHAR(80) NOT NULL,\n",
    "    saldo DECIMAL(30 , 2 ) NOT NULL DEFAULT 0.0,\n",
    "    PRIMARY KEY (id_usuario),\n",
    "    CONSTRAINT c_saldo CHECK (saldo >= 0.0)\n",
    ");\n",
    "\n",
    "CREATE TABLE emprestimo (\n",
    "    id_emprestimo INT NOT NULL AUTO_INCREMENT,\n",
    "    id_credor INT NOT NULL,\n",
    "    id_devedor INT NOT NULL,\n",
    "    valor_atual DECIMAL(30 , 2 ) NOT NULL DEFAULT 0.0,\n",
    "    data_inicio DATETIME NOT NULL DEFAULT CURRENT_TIMESTAMP,\n",
    "    data_modificação DATETIME NOT NULL DEFAULT CURRENT_TIMESTAMP ON UPDATE CURRENT_TIMESTAMP,\n",
    "    PRIMARY KEY (id_emprestimo),\n",
    "    CONSTRAINT fk_credor FOREIGN KEY (id_credor)\n",
    "        REFERENCES usuario (id_usuario),\n",
    "    CONSTRAINT fk_devedor FOREIGN KEY (id_devedor)\n",
    "        REFERENCES usuario (id_usuario),\n",
    "    CONSTRAINT c_valor CHECK (valor_atual >= 0.0)\n",
    ");\n",
    "\n",
    "CREATE TABLE operacao (\n",
    "    id_operacao INT NOT NULL AUTO_INCREMENT,\n",
    "    id_emprestimo INT NOT NULL,\n",
    "    valor DECIMAL(30 , 2 ),\n",
    "    data_operacao DATETIME NOT NULL DEFAULT CURRENT_TIMESTAMP,\n",
    "    PRIMARY KEY (id_operacao),\n",
    "    CONSTRAINT fk_emprestimo FOREIGN KEY (id_emprestimo)\n",
    "        REFERENCES emprestimo (id_emprestimo)\n",
    ");\n",
    "\n",
    "CREATE TABLE movimentacao (\n",
    "    id_movimentacao INT NOT NULL AUTO_INCREMENT,\n",
    "    id_usuario INT NOT NULL,\n",
    "    valor DECIMAL(30 , 2 ),\n",
    "    data_operacao DATETIME NOT NULL DEFAULT CURRENT_TIMESTAMP,\n",
    "    PRIMARY KEY (id_movimentacao),\n",
    "    CONSTRAINT fk_usuario FOREIGN KEY (id_usuario)\n",
    "        REFERENCES usuario (id_usuario)\n",
    ");\n",
    "\n",
    "```"
   ]
  },
  {
   "cell_type": "markdown",
   "metadata": {},
   "source": [
    "---\n",
    "\n",
    "Rode esse script (`emprestimos.sql`) para criar a base de dados no MySQL. Vamos também trazer o código de conexão à base de dados:"
   ]
  },
  {
   "cell_type": "code",
   "execution_count": 1,
   "metadata": {},
   "outputs": [],
   "source": [
    "import mysql.connector\n",
    "import os\n",
    "from functools import partial\n",
    "from dotenv import load_dotenv"
   ]
  },
  {
   "cell_type": "code",
   "execution_count": 20,
   "metadata": {},
   "outputs": [],
   "source": [
    "load_dotenv(override=True)\n",
    "\n",
    "def get_connection_helper():\n",
    "\n",
    "    def run_db_query(connection, query, args=None):\n",
    "        with connection.cursor() as cursor:\n",
    "            print(\"Executando query:\")\n",
    "            for result in cursor.execute(query, multi=True):\n",
    "                if result.with_rows:\n",
    "                    for row in result.fetchall():\n",
    "                        print(row)\n",
    "                else:\n",
    "                    print(f\"{result.rowcount} linhas afetadas.\")\n",
    "\n",
    "    connection = mysql.connector.connect(\n",
    "        host=os.getenv(\"MD_DB_SERVER\"),\n",
    "        port=int(os.getenv(\"MD_DB_PORT\", 3306)),\n",
    "        user=os.getenv(\"MD_DB_USERNAME\"),\n",
    "        password=os.getenv(\"MD_DB_PASSWORD\"),\n",
    "        database=\"emprestimos\",\n",
    "    )\n",
    "    return connection, partial(run_db_query, connection)\n",
    "\n",
    "\n",
    "connection, db = get_connection_helper()"
   ]
  },
  {
   "cell_type": "markdown",
   "metadata": {},
   "source": [
    "## Transactions"
   ]
  },
  {
   "cell_type": "markdown",
   "metadata": {},
   "source": [
    "Uma *transação* é um grupo de operações na base de dados, em uma dada *sessão*. Vamos conhecer o conceito de transação com as atividades a seguir."
   ]
  },
  {
   "cell_type": "markdown",
   "metadata": {},
   "source": [
    "### `COMMIT`"
   ]
  },
  {
   "cell_type": "markdown",
   "metadata": {},
   "source": [
    "Vamos gerar alguns usuários na nossa base:"
   ]
  },
  {
   "cell_type": "code",
   "execution_count": 3,
   "metadata": {},
   "outputs": [
    {
     "name": "stdout",
     "output_type": "stream",
     "text": [
      "Executando query:\n",
      "5 linhas afetadas.\n"
     ]
    }
   ],
   "source": [
    "db(\"\"\"\n",
    "INSERT INTO usuario (id_usuario, nome, sobrenome) VALUES\n",
    "    (1, 'Juca', 'Silva'), \n",
    "    (2, 'Mario', 'Ferreira'), \n",
    "    (3, 'Ana', 'Soares'), \n",
    "    (4, 'Antonio', 'Reis'), \n",
    "    (5, 'Paulo', 'Oliveira')\n",
    "\"\"\")"
   ]
  },
  {
   "cell_type": "markdown",
   "metadata": {},
   "source": [
    "Vamos verificar se os usuários foram inseridos:"
   ]
  },
  {
   "cell_type": "code",
   "execution_count": 4,
   "metadata": {
    "scrolled": true
   },
   "outputs": [
    {
     "name": "stdout",
     "output_type": "stream",
     "text": [
      "Executando query:\n",
      "(1, 'Juca', 'Silva', Decimal('0.00'))\n",
      "(2, 'Mario', 'Ferreira', Decimal('0.00'))\n",
      "(3, 'Ana', 'Soares', Decimal('0.00'))\n",
      "(4, 'Antonio', 'Reis', Decimal('0.00'))\n",
      "(5, 'Paulo', 'Oliveira', Decimal('0.00'))\n"
     ]
    }
   ],
   "source": [
    "db(\"SELECT * FROM usuario\")"
   ]
  },
  {
   "cell_type": "markdown",
   "metadata": {},
   "source": [
    "Excelente, parece que deu tudo certo! Agora vamos verificar diretamente no MySQL Workbench, só para ter certeza:\n",
    "\n",
    "```SQL\n",
    "SELECT * FROM usuario;\n",
    "```\n",
    "\n",
    "<img src='img/usuarios_null.png' alt='Nenhum usuario na tabela!' style='width: 400px;'/>"
   ]
  },
  {
   "cell_type": "markdown",
   "metadata": {},
   "source": [
    "Epa, cade os usuarios?\n",
    "\n",
    "Para entender o que aconteceu, precisamos compreender melhor como funciona uma conexão com o banco de dados. Quando criamos um objeto de conexão, estamos iniciando uma *sessão* do banco de dados. Em uma sessão as várias operações sendo realizadas configuram uma *transação*. \n",
    "\n",
    "As transações não são efetuadas diretamente no armazenamento permanente, a não ser que o banco tenha a propriedade de *'auto-commit'*. Vamos verificar se esse é o caso na nossa conexão:"
   ]
  },
  {
   "cell_type": "code",
   "execution_count": 5,
   "metadata": {},
   "outputs": [
    {
     "name": "stdout",
     "output_type": "stream",
     "text": [
      "False\n"
     ]
    }
   ],
   "source": [
    "print(connection.autocommit)"
   ]
  },
  {
   "cell_type": "markdown",
   "metadata": {},
   "source": [
    "Você deve ver o valor 'False' acima. Isso significa que devemos explicitamente indicar quando estamos satisfeitos com uma transação, para que os valores inseridos (ou removidos) sejam efetivamente registrados no banco de dados. Isso é feito através do comando `COMMIT`:"
   ]
  },
  {
   "cell_type": "code",
   "execution_count": 5,
   "metadata": {},
   "outputs": [
    {
     "name": "stdout",
     "output_type": "stream",
     "text": [
      "Executando query:\n",
      "0 linhas afetadas.\n"
     ]
    }
   ],
   "source": [
    "db(\"COMMIT\")"
   ]
  },
  {
   "cell_type": "markdown",
   "metadata": {},
   "source": [
    "Agora consulte o banco de dados via MySQL Workbench (ou seja, usando uma sessão diferente da nossa):\n",
    "\n",
    "\n",
    "```SQL\n",
    "SELECT * FROM usuario;\n",
    "```\n",
    "\n",
    "<img src='img/usuarios_commit.png' alt='Agora tem usuario na tabela!' style='width: 400px;'/>\n",
    "\n",
    "Pronto, agora temos usuarios no nosso banco de dados!\n",
    "\n",
    "Outra forma de indicar o `commit` da transação é usar o método `commit()` do objeto `connection`:\n",
    "\n",
    "```python\n",
    "connection.commit()\n",
    "```"
   ]
  },
  {
   "cell_type": "markdown",
   "metadata": {},
   "source": [
    "### Atividade"
   ]
  },
  {
   "cell_type": "markdown",
   "metadata": {},
   "source": [
    "Crie os usuários 'Carla Nakamura' e 'Maria Fontana'."
   ]
  },
  {
   "cell_type": "code",
   "execution_count": 6,
   "metadata": {},
   "outputs": [
    {
     "name": "stdout",
     "output_type": "stream",
     "text": [
      "Executando query:\n",
      "2 linhas afetadas.\n"
     ]
    }
   ],
   "source": [
    "db(\"\"\"\n",
    "INSERT INTO usuario (id_usuario, nome, sobrenome) VALUES\n",
    "    (6, 'Carla', 'Nakamura'), \n",
    "    (7, 'Maria', 'Fontana')\n",
    "\"\"\")"
   ]
  },
  {
   "cell_type": "code",
   "execution_count": 7,
   "metadata": {},
   "outputs": [
    {
     "name": "stdout",
     "output_type": "stream",
     "text": [
      "Executando query:\n",
      "0 linhas afetadas.\n"
     ]
    }
   ],
   "source": [
    "db(\"COMMIT\")"
   ]
  },
  {
   "cell_type": "markdown",
   "metadata": {},
   "source": [
    "### ROLLBACK"
   ]
  },
  {
   "cell_type": "markdown",
   "metadata": {},
   "source": [
    "Para efeito de testes, vamos inserir mais um usuario:"
   ]
  },
  {
   "cell_type": "code",
   "execution_count": 9,
   "metadata": {},
   "outputs": [
    {
     "name": "stdout",
     "output_type": "stream",
     "text": [
      "Executando query:\n",
      "1 linhas afetadas.\n"
     ]
    }
   ],
   "source": [
    "db(\"INSERT INTO usuario (nome, sobrenome) VALUES ('Fernando', 'Maia')\")"
   ]
  },
  {
   "cell_type": "markdown",
   "metadata": {},
   "source": [
    "Verificando o resultado da sessão, temos:"
   ]
  },
  {
   "cell_type": "code",
   "execution_count": 10,
   "metadata": {},
   "outputs": [
    {
     "name": "stdout",
     "output_type": "stream",
     "text": [
      "Executando query:\n",
      "(1, 'Juca', 'Silva', Decimal('0.00'))\n",
      "(2, 'Mario', 'Ferreira', Decimal('0.00'))\n",
      "(3, 'Ana', 'Soares', Decimal('0.00'))\n",
      "(4, 'Antonio', 'Reis', Decimal('0.00'))\n",
      "(5, 'Paulo', 'Oliveira', Decimal('0.00'))\n",
      "(6, 'Carla', 'Nakamura', Decimal('0.00'))\n",
      "(7, 'Maria', 'Fontana', Decimal('0.00'))\n",
      "(8, 'Fernando', 'Maia', Decimal('0.00'))\n"
     ]
    }
   ],
   "source": [
    "db(\"SELECT * FROM usuario\")"
   ]
  },
  {
   "cell_type": "markdown",
   "metadata": {},
   "source": [
    "Agora, se executarmos o `COMMIT` a nossa modificação se tornará permanente. Porém suponha que estamos arrependidos, e não queremos prosseguir com o `COMMIT` da transação, o que fazer?\n",
    "\n",
    "Para abandonar as mudanças da transação atual, usamos o comando `ROLLBACK`:"
   ]
  },
  {
   "cell_type": "code",
   "execution_count": 11,
   "metadata": {
    "scrolled": true
   },
   "outputs": [
    {
     "name": "stdout",
     "output_type": "stream",
     "text": [
      "Executando query:\n",
      "0 linhas afetadas.\n"
     ]
    }
   ],
   "source": [
    "db(\"ROLLBACK\")"
   ]
  },
  {
   "cell_type": "markdown",
   "metadata": {},
   "source": [
    "Verificando o estado do banco de dados na sessão atual temos:"
   ]
  },
  {
   "cell_type": "code",
   "execution_count": 12,
   "metadata": {},
   "outputs": [
    {
     "name": "stdout",
     "output_type": "stream",
     "text": [
      "Executando query:\n",
      "(1, 'Juca', 'Silva', Decimal('0.00'))\n",
      "(2, 'Mario', 'Ferreira', Decimal('0.00'))\n",
      "(3, 'Ana', 'Soares', Decimal('0.00'))\n",
      "(4, 'Antonio', 'Reis', Decimal('0.00'))\n",
      "(5, 'Paulo', 'Oliveira', Decimal('0.00'))\n",
      "(6, 'Carla', 'Nakamura', Decimal('0.00'))\n",
      "(7, 'Maria', 'Fontana', Decimal('0.00'))\n"
     ]
    }
   ],
   "source": [
    "db(\"SELECT * FROM usuario\")"
   ]
  },
  {
   "cell_type": "markdown",
   "metadata": {},
   "source": [
    "Observe que o *rollback* só volta até o último *commit*, e a repetição de *rollbacks* NÃO volta mais ainda para o passado! `COMMIT` e `ROLLBACK` são definitivos!\n",
    "\n",
    "O *rollback* pode ser obtido também com o método `rollback()` do objeto `connection`:\n",
    "\n",
    "```Python\n",
    "connection.rollback()\n",
    "```"
   ]
  },
  {
   "cell_type": "markdown",
   "metadata": {},
   "source": [
    "### Atividade"
   ]
  },
  {
   "cell_type": "markdown",
   "metadata": {},
   "source": [
    "Insira o usuario 'Walter Branco' mas não execute um `COMMIT`, e sim um `ROLLBACK`. Verifique que o `ROLLBACK` funcionou."
   ]
  },
  {
   "cell_type": "code",
   "execution_count": 13,
   "metadata": {},
   "outputs": [
    {
     "name": "stdout",
     "output_type": "stream",
     "text": [
      "Executando query:\n",
      "1 linhas afetadas.\n"
     ]
    }
   ],
   "source": [
    "db(\"INSERT INTO usuario (nome, sobrenome) VALUES ('Walter', 'Branco')\")"
   ]
  },
  {
   "cell_type": "markdown",
   "metadata": {},
   "source": [
    "Verificando o resultado da sessão, temos:"
   ]
  },
  {
   "cell_type": "code",
   "execution_count": 14,
   "metadata": {},
   "outputs": [
    {
     "name": "stdout",
     "output_type": "stream",
     "text": [
      "Executando query:\n",
      "(1, 'Juca', 'Silva', Decimal('0.00'))\n",
      "(2, 'Mario', 'Ferreira', Decimal('0.00'))\n",
      "(3, 'Ana', 'Soares', Decimal('0.00'))\n",
      "(4, 'Antonio', 'Reis', Decimal('0.00'))\n",
      "(5, 'Paulo', 'Oliveira', Decimal('0.00'))\n",
      "(6, 'Carla', 'Nakamura', Decimal('0.00'))\n",
      "(7, 'Maria', 'Fontana', Decimal('0.00'))\n",
      "(9, 'Walter', 'Branco', Decimal('0.00'))\n"
     ]
    }
   ],
   "source": [
    "db(\"SELECT * FROM usuario\")"
   ]
  },
  {
   "cell_type": "markdown",
   "metadata": {},
   "source": [
    "Fazemos o `rollback`:"
   ]
  },
  {
   "cell_type": "code",
   "execution_count": 15,
   "metadata": {
    "scrolled": true
   },
   "outputs": [
    {
     "name": "stdout",
     "output_type": "stream",
     "text": [
      "Executando query:\n",
      "0 linhas afetadas.\n"
     ]
    }
   ],
   "source": [
    "db(\"ROLLBACK\")"
   ]
  },
  {
   "cell_type": "markdown",
   "metadata": {},
   "source": [
    "Observe que o usuário 'Walter Branco' não é mais retornado:"
   ]
  },
  {
   "cell_type": "code",
   "execution_count": 16,
   "metadata": {},
   "outputs": [
    {
     "name": "stdout",
     "output_type": "stream",
     "text": [
      "Executando query:\n",
      "(1, 'Juca', 'Silva', Decimal('0.00'))\n",
      "(2, 'Mario', 'Ferreira', Decimal('0.00'))\n",
      "(3, 'Ana', 'Soares', Decimal('0.00'))\n",
      "(4, 'Antonio', 'Reis', Decimal('0.00'))\n",
      "(5, 'Paulo', 'Oliveira', Decimal('0.00'))\n",
      "(6, 'Carla', 'Nakamura', Decimal('0.00'))\n",
      "(7, 'Maria', 'Fontana', Decimal('0.00'))\n"
     ]
    }
   ],
   "source": [
    "db(\"SELECT * FROM usuario\")"
   ]
  },
  {
   "cell_type": "markdown",
   "metadata": {},
   "source": [
    "### `START TRANSACTION`"
   ]
  },
  {
   "cell_type": "markdown",
   "metadata": {},
   "source": [
    "Para garantir que o banco de dados MySQL não está operando em modo *auto-commit* use o comando `START TRANSACTION`. Este comando garante que estamos iniciando uma transação sem *auto-commit*. Por exemplo:"
   ]
  },
  {
   "cell_type": "code",
   "execution_count": 8,
   "metadata": {},
   "outputs": [
    {
     "name": "stdout",
     "output_type": "stream",
     "text": [
      "Executando query:\n",
      "0 linhas afetadas.\n",
      "Executando query:\n",
      "1 linhas afetadas.\n",
      "Executando query:\n",
      "0 linhas afetadas.\n",
      "Executando query:\n",
      "(1, 'Juca', 'Silva', Decimal('0.00'))\n",
      "(2, 'Mario', 'Ferreira', Decimal('0.00'))\n",
      "(3, 'Ana', 'Soares', Decimal('0.00'))\n",
      "(4, 'Antonio', 'Reis', Decimal('0.00'))\n",
      "(5, 'Paulo', 'Oliveira', Decimal('0.00'))\n",
      "(6, 'Carla', 'Nakamura', Decimal('0.00'))\n",
      "(7, 'Maria', 'Fontana', Decimal('0.00'))\n",
      "(8, 'Chapeleiro', 'Maluco', Decimal('0.00'))\n"
     ]
    }
   ],
   "source": [
    "db(\"START TRANSACTION\")\n",
    "db(\"INSERT INTO usuario (nome, sobrenome) VALUES ('Chapeleiro', 'Maluco')\")\n",
    "db(\"COMMIT\")\n",
    "db(\"SELECT * FROM usuario\")"
   ]
  },
  {
   "cell_type": "markdown",
   "metadata": {},
   "source": [
    "Vamos reverter essa inserção em uma outra transação."
   ]
  },
  {
   "cell_type": "code",
   "execution_count": 9,
   "metadata": {},
   "outputs": [
    {
     "name": "stdout",
     "output_type": "stream",
     "text": [
      "Executando query:\n",
      "0 linhas afetadas.\n",
      "Executando query:\n",
      "1 linhas afetadas.\n",
      "Executando query:\n",
      "1 linhas afetadas.\n",
      "Executando query:\n",
      "0 linhas afetadas.\n",
      "Executando query:\n",
      "(1, 'Juca', 'Silva', Decimal('0.00'))\n",
      "(2, 'Mario', 'Ferreira', Decimal('0.00'))\n",
      "(3, 'Ana', 'Soares', Decimal('0.00'))\n",
      "(4, 'Antonio', 'Reis', Decimal('0.00'))\n",
      "(5, 'Paulo', 'Oliveira', Decimal('0.00'))\n",
      "(6, 'Carla', 'Nakamura', Decimal('0.00'))\n",
      "(7, 'Maria', 'Fontana', Decimal('0.00'))\n"
     ]
    }
   ],
   "source": [
    "db(\"START TRANSACTION\")\n",
    "db(\"\"\"\n",
    "    SELECT id_usuario INTO @id_usuario \n",
    "    FROM usuario \n",
    "    WHERE nome = 'Chapeleiro' AND sobrenome = 'Maluco'\n",
    "    ORDER BY id_usuario DESC LIMIT 1;\n",
    "\"\"\")\n",
    "db(\"DELETE FROM usuario WHERE id_usuario=@id_usuario\")\n",
    "db(\"COMMIT\")\n",
    "db(\"SELECT * FROM usuario\")"
   ]
  },
  {
   "cell_type": "markdown",
   "metadata": {},
   "source": [
    "### Usando `COMMIT` e `ROLLBACK` para garantir atomicidade de transações"
   ]
  },
  {
   "cell_type": "markdown",
   "metadata": {},
   "source": [
    "Vamos agora juntar os vários conceitos em um código Python para adicionar itens na tabela `emprestimo`. \n",
    "\n",
    "Como podemos ver no modelo E-R devemos informar os ids do credor e do devedor ao inserir uma nova linha nesta tabela, e estes ids devem ser ids válidos de clientes do nosso sistema. Logo, \n",
    "- se tentarmos inserir um emprestimo entre os usuarios 1 e 2 devemos ter sucesso, \n",
    "- mas se tentarmos inserir um emprestimo entre os usuarios 1 e 1000 devemos ter uma falha. \n",
    "\n",
    "Se ambos os comandos de inserção devem ser executados de modo 'tudo ou nada' (ou executam ambos, ou nenhum), parece que temos um caso ideal para aplicar transações aqui. A idéia é que se tudo acontecer sem problemas devemos executar um `COMMIT`, mas se algo der errado devemos excutar um `ROLLBACK`. Isso parece uma missão para `try`/`catch`!"
   ]
  },
  {
   "cell_type": "code",
   "execution_count": 19,
   "metadata": {
    "scrolled": true
   },
   "outputs": [
    {
     "name": "stdout",
     "output_type": "stream",
     "text": [
      "Executando query:\n",
      "0 linhas afetadas.\n",
      "Executando query:\n",
      "1 linhas afetadas.\n",
      "Executando query:\n",
      "1452 (23000): Cannot add or update a child row: a foreign key constraint fails (`emprestimos`.`emprestimo`, CONSTRAINT `fk_devedor` FOREIGN KEY (`id_devedor`) REFERENCES `usuario` (`id_usuario`))\n",
      "Executando query:\n",
      "0 linhas afetadas.\n"
     ]
    }
   ],
   "source": [
    "try:\n",
    "    db(\"START TRANSACTION\")\n",
    "    db(\"INSERT INTO emprestimo (id_credor, id_devedor) VALUES (1, 2)\")\n",
    "    db(\"INSERT INTO emprestimo (id_credor, id_devedor) VALUES (1, 1000)\")\n",
    "    db(\"COMMIT\")\n",
    "except Exception as e:\n",
    "    print(e)\n",
    "    db(\"ROLLBACK\")"
   ]
  },
  {
   "cell_type": "code",
   "execution_count": 20,
   "metadata": {
    "scrolled": true
   },
   "outputs": [
    {
     "name": "stdout",
     "output_type": "stream",
     "text": [
      "Executando query:\n"
     ]
    }
   ],
   "source": [
    "db(\"SELECT * FROM emprestimo\")"
   ]
  },
  {
   "cell_type": "markdown",
   "metadata": {},
   "source": [
    "### Atividade"
   ]
  },
  {
   "cell_type": "markdown",
   "metadata": {},
   "source": [
    "- Execute os depósitos abaixo:\n",
    "\n",
    "| usuario        | valor |\n",
    "|----------------|-------|\n",
    "| Ana Soares     | 10000 |\n",
    "| Antonio Reis   | 5000  |\n",
    "| Paulo Oliveira | 20000 |\n",
    "\n",
    "Dica: crie uma função `pega_id_usuario(connection, nome, sobrenome)` para achar o id de usuario, e uma função `deposito(connection, id_usuario, valor)` para facilitar a realização dos depósitos. Um depósito requer uma inserção na tabela de movimentações, e um update no saldo.\n",
    "\n",
    "Leia a documentação para utilizar funções adequadas: https://dev.mysql.com/doc/connector-python/en/connector-python-api-mysqlcursor.html"
   ]
  },
  {
   "cell_type": "code",
   "execution_count": 10,
   "metadata": {},
   "outputs": [],
   "source": [
    "def pega_id_usuario(connection, nome, sobrenome):\n",
    "    with connection.cursor() as cursor:\n",
    "        cursor.execute(\"\"\"\n",
    "            SELECT id_usuario \n",
    "            FROM usuario \n",
    "            WHERE nome = %s AND sobrenome = %s\n",
    "            ORDER BY id_usuario DESC LIMIT 1;\n",
    "        \"\"\", (nome, sobrenome))\n",
    "        result = cursor.fetchone()\n",
    "        return result[0] if result else None"
   ]
  },
  {
   "cell_type": "code",
   "execution_count": 23,
   "metadata": {},
   "outputs": [],
   "source": [
    "#Um depósito requer uma inserção na tabela de movimentações, e um update no saldo.\n",
    "def faz_deposito(connection, id_usuario, valor):\n",
    "    if id_usuario is None:\n",
    "        raise ValueError(\"Usuário não encontrado\")\n",
    "    \n",
    "    try:\n",
    "        with connection.cursor() as cursor:\n",
    "            cursor.execute(\"START TRANSACTION;\")\n",
    "            cursor.execute(\"\"\"\n",
    "                INSERT INTO movimentacao (id_usuario, data_operacao, valor) \n",
    "                VALUES (%s, NOW(), %s);\n",
    "            \"\"\", (id_usuario, valor))\n",
    "            cursor.execute(\"\"\"\n",
    "                UPDATE usuario \n",
    "                SET saldo = saldo + %s \n",
    "                WHERE id_usuario = %s;\n",
    "            \"\"\", (valor, id_usuario))\n",
    "            cursor.execute(\"COMMIT;\")\n",
    "    except Exception as e:\n",
    "        print(e)\n",
    "        cursor.execute(\"ROLLBACK;\")"
   ]
  },
  {
   "cell_type": "markdown",
   "metadata": {},
   "source": [
    "- Crie funções para consulta de saldo de conta e de valor atual de emprestimo"
   ]
  },
  {
   "cell_type": "code",
   "execution_count": null,
   "metadata": {},
   "outputs": [],
   "source": [
    "def consulta_saldo(connection, id_usuario):\n",
    "    with connection.cursor() as cursor:\n",
    "        cursor.execute(\"\"\"\n",
    "            SELECT saldo \n",
    "            FROM usuario \n",
    "            WHERE id_usuario = %s;\n",
    "        \"\"\", (id_usuario,))\n",
    "        result = cursor.fetchone()\n",
    "        saldo = result[0] if result else None\n",
    "        print(f\"Saldo do usuário {id_usuario}: {saldo}\")\n",
    "        return saldo"
   ]
  },
  {
   "cell_type": "code",
   "execution_count": 13,
   "metadata": {},
   "outputs": [],
   "source": [
    "def valor_atual_emprestimo(connection, id_emprestimo):\n",
    "    with connection.cursor() as cursor:\n",
    "        cursor.execute(\"\"\"\n",
    "            SELECT valor_atual \n",
    "            FROM emprestimo \n",
    "            WHERE id_emprestimo = %s;\n",
    "        \"\"\", (id_emprestimo,))\n",
    "        result = cursor.fetchone()\n",
    "        valor_atual = result[0] if result else None\n",
    "        print(f\"Valor atual do empréstimo {id_emprestimo}: {valor_atual}\")\n",
    "        return valor_atual"
   ]
  },
  {
   "cell_type": "markdown",
   "metadata": {},
   "source": [
    "<span style=\"color:darkred; font-weight:bold\">ATENÇÃO:</span> Confira, nas funções que você criou, se realizou o uso de **F-string** (ou **concatenação**) passagem de argumentos. Caso sim, refatore para utilizar `%s` e passar como `tupla` na chamada do `execute`."
   ]
  },
  {
   "cell_type": "markdown",
   "metadata": {},
   "source": [
    "- Crie os seguintes contratos de emprestimo:\n",
    "\n",
    "\n",
    "| Credor | Devedor | valor |\n",
    "|--|--|--|\n",
    "| Ana Soares | Juca Silva | 1000 |\n",
    "| Ana Soares | Antonio Reis | 2000 |\n",
    "| Paulo Oliveira | Juca Silva | 3000 |\n",
    "\n",
    "Não se esqueça que um contrato de emprestimo requer:\n",
    "- criação do emprestimo\n",
    "- operação de emprestimo inicial\n",
    "    - operação de saque da conta do credor\n",
    "    - operacao de deposito na conta do devedor\n",
    "    \n",
    "Use o comando `SELECT LAST_INSERT_ID()` para pegar o id do último item inserido.\n",
    "\n",
    "Dica:\n",
    "- Crie uma função para criar um empréstimo de valor zero, que retorne o id do emprestimo.\n",
    "- Crie uma função para realizar um saque. Se não for possível fazer o saque, lance uma exceção.\n",
    "- Crie uma função para efetuar uma operação em um empréstimo dado - isso inclui fazer o saque e o depósito também."
   ]
  },
  {
   "cell_type": "code",
   "execution_count": 14,
   "metadata": {},
   "outputs": [],
   "source": [
    "def cria_emprestimo(connection, id_credor, id_devedor):\n",
    "    with connection.cursor() as cursor:\n",
    "        cursor.execute(\"\"\"\n",
    "            INSERT INTO emprestimo (id_credor, id_devedor, valor_atual, data_inicio, data_modificação)\n",
    "            VALUES (%s, %s, %s, NOW(), NOW());\n",
    "        \"\"\", (id_credor, id_devedor, 0))\n",
    "        connection.commit()\n",
    "        # retorna id do empréstimo criado\n",
    "        return cursor.lastrowid\n"
   ]
  },
  {
   "cell_type": "code",
   "execution_count": 15,
   "metadata": {},
   "outputs": [],
   "source": [
    "def faz_saque(connection, id_usuario, valor):\n",
    "    if id_usuario is None:\n",
    "        raise ValueError(\"Usuário não encontrado\")\n",
    "    \n",
    "    try:\n",
    "        with connection.cursor() as cursor:\n",
    "            cursor.execute(\"START TRANSACTION;\")\n",
    "            cursor.execute(\"\"\"\n",
    "                INSERT INTO movimentacao (id_usuario, data_operacao, valor) \n",
    "                VALUES (%s, NOW(), %s);\n",
    "            \"\"\", (id_usuario, -valor))\n",
    "            cursor.execute(\"\"\"\n",
    "                UPDATE usuario \n",
    "                SET saldo = saldo - %s \n",
    "                WHERE id_usuario = %s;\n",
    "            \"\"\", (valor, id_usuario))\n",
    "            cursor.execute(\"COMMIT;\")\n",
    "    except Exception as e:\n",
    "        print(e)\n",
    "        cursor.execute(\"ROLLBACK;\")"
   ]
  },
  {
   "cell_type": "code",
   "execution_count": 16,
   "metadata": {},
   "outputs": [],
   "source": [
    "#- Crie uma função para efetuar uma operação em um empréstimo dado - isso inclui fazer o saque e o depósito também.\n",
    "def opera_emprestimo(connection, id_emprestimo, id_credor, id_devedor, valor):\n",
    "    try:\n",
    "        with connection.cursor() as cursor:\n",
    "            cursor.execute(\"START TRANSACTION;\")\n",
    "            # Credor empresta dinheiro ao devedor\n",
    "            cursor.execute(\"\"\"\n",
    "                UPDATE emprestimo \n",
    "                SET valor_atual = valor_atual + %s, data_modificação = NOW() \n",
    "                WHERE id_emprestimo = %s;\n",
    "            \"\"\", (valor, id_emprestimo))\n",
    "            faz_saque(connection, id_credor, valor)\n",
    "            faz_deposito(connection, id_devedor, valor)\n",
    "            cursor.execute(\"COMMIT;\")\n",
    "    except Exception as e:\n",
    "        print(e)\n",
    "        cursor.execute(\"ROLLBACK;\")"
   ]
  },
  {
   "cell_type": "code",
   "execution_count": 17,
   "metadata": {},
   "outputs": [
    {
     "name": "stdout",
     "output_type": "stream",
     "text": [
      "id_ana_soares: 3\n",
      "id_juca_silva: 1\n",
      "id_antonio_reis: 4\n",
      "id_paulo_oliveira: 5\n"
     ]
    }
   ],
   "source": [
    "id_ana_soares = pega_id_usuario(connection, 'Ana', 'Soares')\n",
    "id_juca_silva = pega_id_usuario(connection, 'Juca', 'Silva')\n",
    "id_antonio_reis = pega_id_usuario(connection, 'Antonio', 'Reis')\n",
    "id_paulo_oliveira = pega_id_usuario(connection, 'Paulo', 'Oliveira')\n",
    "\n",
    "print(f\"id_ana_soares: {id_ana_soares}\")\n",
    "print(f\"id_juca_silva: {id_juca_silva}\")\n",
    "print(f\"id_antonio_reis: {id_antonio_reis}\")\n",
    "print(f\"id_paulo_oliveira: {id_paulo_oliveira}\")"
   ]
  },
  {
   "cell_type": "code",
   "execution_count": 24,
   "metadata": {},
   "outputs": [],
   "source": [
    "faz_deposito(connection, id_juca_silva, 10000)\n",
    "faz_deposito(connection, id_ana_soares, 10000)\n",
    "faz_deposito(connection, id_antonio_reis, 10000)\n",
    "faz_deposito(connection, id_paulo_oliveira, 10000)"
   ]
  },
  {
   "cell_type": "code",
   "execution_count": 26,
   "metadata": {},
   "outputs": [
    {
     "name": "stdout",
     "output_type": "stream",
     "text": [
      "Executando query:\n",
      "3 linhas afetadas.\n",
      "Saldos finais:\n",
      "Saldo do usuário 3: 13000.00\n",
      "Saldo do usuário 1: 28000.00\n",
      "Saldo do usuário 4: 24000.00\n",
      "Saldo do usuário 5: 14000.00\n"
     ]
    },
    {
     "data": {
      "text/plain": [
       "Decimal('14000.00')"
      ]
     },
     "execution_count": 26,
     "metadata": {},
     "output_type": "execute_result"
    }
   ],
   "source": [
    "db(\"DELETE FROM emprestimo;\")\n",
    "id_emprestimo_1 = cria_emprestimo(connection, id_ana_soares, id_juca_silva)\n",
    "id_emprestimo_2 = cria_emprestimo(connection, id_ana_soares, id_antonio_reis)\n",
    "id_emprestimo_3 = cria_emprestimo(connection, id_paulo_oliveira, id_juca_silva)\n",
    "opera_emprestimo(connection, id_emprestimo_1, id_ana_soares, id_juca_silva, 1000)\n",
    "opera_emprestimo(connection, id_emprestimo_2, id_ana_soares, id_antonio_reis, 2000)\n",
    "opera_emprestimo(connection, id_emprestimo_3, id_paulo_oliveira, id_juca_silva, 3000)\n",
    "\n",
    "print(\"Saldos finais:\")\n",
    "consulta_saldo(connection, id_ana_soares)\n",
    "consulta_saldo(connection, id_juca_silva)\n",
    "consulta_saldo(connection, id_antonio_reis)\n",
    "consulta_saldo(connection, id_paulo_oliveira)"
   ]
  },
  {
   "cell_type": "markdown",
   "metadata": {},
   "source": [
    "Para complementar o conhecimento, leia sobre **savepoints** em:\n",
    "- https://dev.mysql.com/doc/refman/8.4/en/savepoint.html\n",
    "- https://www.tutorialspoint.com/mysql/mysql_savepoint.htm"
   ]
  },
  {
   "cell_type": "markdown",
   "metadata": {},
   "source": [
    "Por hoje é só!"
   ]
  },
  {
   "cell_type": "code",
   "execution_count": 27,
   "metadata": {},
   "outputs": [],
   "source": [
    "connection.close()"
   ]
  }
 ],
 "metadata": {
  "kernelspec": {
   "display_name": "venv",
   "language": "python",
   "name": "python3"
  },
  "language_info": {
   "codemirror_mode": {
    "name": "ipython",
    "version": 3
   },
   "file_extension": ".py",
   "mimetype": "text/x-python",
   "name": "python",
   "nbconvert_exporter": "python",
   "pygments_lexer": "ipython3",
   "version": "3.12.10"
  }
 },
 "nbformat": 4,
 "nbformat_minor": 4
}
