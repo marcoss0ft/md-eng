{
 "cells": [
  {
   "cell_type": "markdown",
   "id": "8f880cd5",
   "metadata": {},
   "source": [
    "# AI MEGADADOS 25-2"
   ]
  },
  {
   "cell_type": "markdown",
   "id": "2b2f43c8",
   "metadata": {},
   "source": [
    "**NOME**: Marcos Augusto Rossi Paulino Costa"
   ]
  },
  {
   "cell_type": "markdown",
   "id": "65af7174",
   "metadata": {},
   "source": [
    "## Observações\n",
    "- Esta prova é formada por 7 (sete) questões e tem **duração de 2h00**.\n",
    "- Os exercícios com correção automática não terão correção manual, mas poderá haver checks de qualidade/honestidade. Caso tente burlar os testes, sua nota de prova será zero e será enviado ao regime disciplinar. O que é burlar? Por exemplo, para a pergunta \"calcule a média da coluna x\", o correto é fazer \"SELECT AVG(x) FROM tabela\", já fazer \"SELECT 100.10\" é considerado burlar os testes, pois sua query não funciona de forma genérica, apenas cola o próprio valor de resultado.\n",
    "- Você pode trazer uma folha de papel (tamanho próximo a A4 / oficio) preenchida dos dois lados e utilizar como consulta. A folha pode ser tanto impressa quanto escrita a mão, mas precisa ser física (não pode acessar no computador). Não é permitido utilizar lupa rsrs.\n",
    "- Será permitido utilizar o Workbench para testar queries e fazer forward / reverse engineering. Feche as abas com respostas realizadas durante o semestre.\n",
    "- Não é permitido compartilhar qualquer material durante a prova.\n",
    "- Não serão permitidas consultas a outros meios (material blackboard, sites, notebooks das aulas, github) impressos ou digitais, nem contactar outras pessoas. Caso ocorra, a nota da prova será zero e será enviado ao regime disciplinar.\n",
    "- Não será permitido o uso de ferramentas de IA (copilot, chatgpt e afins). Você precisará providenciar um ambiente seguro para a prova, sem extensões instaladas (não basta desativar) nem sites abertos. Caso ocorra, a nota da prova será zero e será enviado ao regime disciplinar."
   ]
  },
  {
   "cell_type": "markdown",
   "id": "0d777f64",
   "metadata": {},
   "source": [
    "## Parte 1 - Plataforma de Podcast XTREMO!\n",
    "\n",
    "Na parte 1 da prova de Megadados, iremos trabalhar com a base de dados **XTREMO**.\n",
    "\n",
    "O banco de dados `xtremo` é um sistema relacional sintético projetado para **gerenciar informações de um ecossistema de podcasts**. O foco é manter o registro de aspectos da produção, distribuição e monetização de conteúdo de áudio. Ele contém tabelas que cobrem as seguintes áreas principais:\n",
    "\n",
    "- **Conteúdo:** A tabela **`podcast`** armazena os dados principais dos programas, enquanto a tabela **`episodio`** detalha cada episódio.\n",
    "- **Participantes:** O banco gerencia informações sobre os **`hosts`** (apresentadores) e **`convidados`**, incluindo detalhes de contato e participação. A tabela **`podcast_host`** relaciona hosts a podcasts, e **`episodio_convidado`** liga convidados a episódios.\n",
    "- **Monetização:** As tabelas **`anunciante`**, **`tipo_anuncio`**, e **`anuncio`** lidam com dados comerciais. A tabela **`anuncio_episodio`** associa anúncios a episódios específicos, registrando informações como valor pago e ouvintes no momento da veiculação.\n",
    "- **Distribuição e Engajamento:** As tabelas **`plataforma_distribuicao`** e **`episodio_plataforma`** controlam a presença dos episódios em diferentes plataformas. A tabela **`topico`** e **`episodio_topico`** permitem categorizar o conteúdo e as **`mensagens`** coletam dados de interação do público."
   ]
  },
  {
   "cell_type": "markdown",
   "id": "b5e84918",
   "metadata": {},
   "source": [
    "### Insper autograding!\n",
    "\n",
    "Para entrega dos exercício na parte 1, iremos utilizar o `insper autograding`. Garanta que a biblioteca está instalada em seu ambiente Python.\n",
    "\n",
    "**Sugestão**: crie uma pasta para a prova e copie o `.env` utilizado nas aulas para esta pasta."
   ]
  },
  {
   "cell_type": "markdown",
   "id": "ab38ad8c",
   "metadata": {},
   "source": [
    "### Instalação da base\n",
    "\n",
    "Execute os scripts `xtremo_0001.sql` e `xtremo_0002.sql` no **MySQL Workbench**. Estes scripts criam um banco `xtremo` e inserem dados de exemplo para resolução da prova.\n",
    "\n",
    "O banco de dados pode ser representado pelo seguinte diagrama do modelo relacional (também disponível em PDF na pasta `docs`):\n",
    "\n",
    "<img src=\"img/xtremo.png\">"
   ]
  },
  {
   "cell_type": "markdown",
   "id": "0fa86625",
   "metadata": {},
   "source": [
    "## Como resolver os exercícios?\n",
    "\n",
    "Crie o banco da prova em sua máquina (passo anterior). Utilize o MySQL Workbench ou o conector para testar as *queries*. Quando estiver bastante certo de que a resposta está correta, faça a submissão para o servidor.\n",
    "\n",
    "Em alguns momentos, pode ser necessário analisar a resposta esperada do servidor para entender modificações na sua solução, mesmo que não seja algo explícito no enunciado.\n",
    "\n",
    "## Import das bibliotecas\n",
    "\n",
    "Vamos realizar o import das bibliotecas."
   ]
  },
  {
   "cell_type": "code",
   "execution_count": 1,
   "id": "4bbb4867",
   "metadata": {},
   "outputs": [],
   "source": [
    "import mysql.connector\n",
    "from functools import partial\n",
    "import os\n",
    "import insperautograder.jupyter as ia\n",
    "from dotenv import load_dotenv"
   ]
  },
  {
   "cell_type": "markdown",
   "id": "afab4360",
   "metadata": {},
   "source": [
    "E vamos criar nosso HELPER de conexão com o banco! Perceba que, uma vez configurado o `.env` não precisaremos mais informar usuários, senhas e URLs!"
   ]
  },
  {
   "cell_type": "code",
   "execution_count": 2,
   "id": "dfff799c",
   "metadata": {},
   "outputs": [],
   "source": [
    "load_dotenv(override=True)\n",
    "\n",
    "def get_connection_helper():\n",
    "\n",
    "    def run_db_query(connection, query, args=None):\n",
    "        with connection.cursor() as cursor:\n",
    "            print(\"Executando query:\")\n",
    "            for result in cursor.execute(query, multi=True):\n",
    "                if result.with_rows:\n",
    "                    for row in result.fetchall():\n",
    "                        print(row)\n",
    "                else:\n",
    "                    print(f\"{result.rowcount} linhas afetadas.\")\n",
    "\n",
    "    connection = mysql.connector.connect(\n",
    "        host=os.getenv(\"MD_DB_SERVER\"),\n",
    "        user=os.getenv(\"MD_DB_USERNAME\"),\n",
    "        password=os.getenv(\"MD_DB_PASSWORD\"),\n",
    "        database=\"xtremo\",\n",
    "    )\n",
    "    return connection, partial(run_db_query, connection)\n",
    "\n",
    "\n",
    "connection, db = get_connection_helper()"
   ]
  },
  {
   "cell_type": "markdown",
   "id": "22c498e8",
   "metadata": {},
   "source": [
    "### Notas\n",
    "\n",
    "Para conferir a nota da correção automática da prova, utilize:"
   ]
  },
  {
   "cell_type": "code",
   "execution_count": 3,
   "id": "68f8c591",
   "metadata": {},
   "outputs": [
    {
     "data": {
      "text/markdown": [
       "|    | Atividade   | Exercício   |   Peso |   Nota |   Nota Sem Atraso |   Nota Com Atraso |\n",
       "|---:|:------------|:------------|-------:|-------:|------------------:|------------------:|\n",
       "|  0 | ai_md_25_2  | ex01        |      2 |      0 |                 0 |                 0 |\n",
       "|  1 | ai_md_25_2  | ex02        |      3 |      0 |                 0 |                 0 |\n",
       "|  2 | ai_md_25_2  | ex03        |      3 |      0 |                 0 |                 0 |\n",
       "|  3 | ai_md_25_2  | ex04        |      3 |      0 |                 0 |                 0 |\n",
       "|  4 | ai_md_25_2  | ex05        |      2 |      0 |                 0 |                 0 |\n",
       "|  5 | ai_md_25_2  | ex06        |      3 |      0 |                 0 |                 0 |"
      ],
      "text/plain": [
       "<IPython.core.display.Markdown object>"
      ]
     },
     "metadata": {},
     "output_type": "display_data"
    }
   ],
   "source": [
    "ia.grades(task=\"ai_md_25_2\")"
   ]
  },
  {
   "cell_type": "code",
   "execution_count": 4,
   "id": "477198ca",
   "metadata": {},
   "outputs": [
    {
     "data": {
      "text/markdown": [
       "|    | Tarefa     |   Nota | Conta como ATV?   |\n",
       "|---:|:-----------|-------:|:------------------|\n",
       "|  0 | ai_md_25_2 |      0 | Não               |"
      ],
      "text/plain": [
       "<IPython.core.display.Markdown object>"
      ]
     },
     "metadata": {},
     "output_type": "display_data"
    }
   ],
   "source": [
    "ia.grades(by=\"TASK\", task=\"ai_md_25_2\")"
   ]
  },
  {
   "cell_type": "markdown",
   "id": "7673645e",
   "metadata": {},
   "source": [
    "**Obs**:\n",
    "\n",
    "- As questões 1 a 6 valem **7.0 pontos** na nota da prova.\n",
    "    - Estas questões serão corrigidas **apenas** pela correção automática. Não haverá nota manual, mas haverá check de honestidade, conforme regras da prova.\n",
    "    - Confira os pesos pela API, a média é ponderada.\n",
    "    - No servidor, a nota da atividade estará no intervalo 0 a 10. Multiplique por `0.7` para saber a real contribuição na nota da prova.\n",
    "- A questão 7 vale **3.0 pontos** na nota da prova.\n",
    "\n",
    "Logo, a prova vale um total de **10.0** pontos."
   ]
  },
  {
   "cell_type": "markdown",
   "id": "7f13eaa4",
   "metadata": {},
   "source": [
    "**Exercício 1**: Crie uma query que retorne o nome, profissão e empresa de todos os convidados que NÃO estão ativos na blocklist e cujo cachê seja menor que `700.00`.\n",
    "\n",
    "**Obs**:\n",
    "\n",
    "- Ordene de forma crescente pelo nome.\n",
    "- Analise todos os campos da tabela `convidado` para entender o que é `blocklist`.\n",
    "- `0` significa que o convidado não está na blocklist (Falso), `1` significa que está (Verdadeiro)."
   ]
  },
  {
   "cell_type": "code",
   "execution_count": 7,
   "id": "07186a8a",
   "metadata": {},
   "outputs": [
    {
     "name": "stdout",
     "output_type": "stream",
     "text": [
      "Executando query:\n",
      "('Diego Fernandes', 'Barista', 'Coffee Lab')\n",
      "('Dr. Sérgio Martins', 'Veterinário', 'Zoo de São Paulo')\n",
      "('João Pedro', 'Influenciador Digital', 'YouTube Brasil')\n",
      "('Letícia Gomes', 'Fashion Designer', 'São Paulo Fashion Week')\n",
      "('Marcelo Tavares', 'Sommelier', 'Instituto do Vinho')\n",
      "('Mônica Silva', 'Musicoterapeuta', 'Clínica Harmonia')\n",
      "('Rafael Nunes', 'Personal Trainer', 'Academia Forma')\n",
      "('Silvia Rocha', 'Terapeuta Holística', 'Centro Zen')\n"
     ]
    }
   ],
   "source": [
    "sql_ex01 = \"\"\"\n",
    "SELECT \n",
    "    nome,\n",
    "    profissao, \n",
    "    empresa\n",
    "FROM\n",
    "    convidado\n",
    "WHERE\n",
    "    blocklisted = 0 AND cache < 700\n",
    "ORDER BY\n",
    "    nome\n",
    "\"\"\"\n",
    "\n",
    "db(sql_ex01)"
   ]
  },
  {
   "cell_type": "markdown",
   "id": "dea9d3b7",
   "metadata": {},
   "source": [
    "Após testar localmente e considerar sua solução correta, faça o envio clicando no botão abaixo!"
   ]
  },
  {
   "cell_type": "code",
   "execution_count": 8,
   "id": "d9821aed",
   "metadata": {},
   "outputs": [
    {
     "data": {
      "application/vnd.jupyter.widget-view+json": {
       "model_id": "3cdba24bf5a84f0b9a77ccd29de31b2c",
       "version_major": 2,
       "version_minor": 0
      },
      "text/plain": [
       "interactive(children=(Button(description='Enviar ex01', style=ButtonStyle()), Output()), _dom_classes=('widget…"
      ]
     },
     "metadata": {},
     "output_type": "display_data"
    }
   ],
   "source": [
    "ia.sender(answer=\"sql_ex01\", task=\"ai_md_25_2\", question=\"ex01\", answer_type=\"pyvar\")"
   ]
  },
  {
   "cell_type": "markdown",
   "id": "4cca37ff",
   "metadata": {},
   "source": [
    "**Exercício 2**: Crie uma query que retorne o nome do podcast, o título do episódio, a duração em minutos do episódio e o nome da categoria do podcast.\n",
    "\n",
    "**Obs**: \n",
    "- Retorne apenas episódios que são públicos e que tenham duração maior que 70 minutos.\n",
    "- Utilize a nomenclatura (`nome_podcast`, `titulo_episodio`, `duracao_minutos`, `categoria`).\n",
    "- Ordene de forma decrescente pela duração em minutos."
   ]
  },
  {
   "cell_type": "code",
   "execution_count": 9,
   "id": "71720a03",
   "metadata": {},
   "outputs": [
    {
     "name": "stdout",
     "output_type": "stream",
     "text": [
      "Executando query:\n",
      "('TechTalks Brasil', 'Quantum Computing: A Próxima Revolução', 102, 'Tecnologia')\n",
      "('TechTalks Brasil', 'O Metaverso e o Futuro do Trabalho', 95, 'Tecnologia')\n",
      "('TechTalks Brasil', 'Machine Learning na Prática', 93, 'Tecnologia')\n",
      "('TechTalks Brasil', 'Startups Unicórnio: Cases de Sucesso', 92, 'Tecnologia')\n",
      "('Negócios em Foco', 'ESG: Sustentabilidade como Estratégia', 91, 'Negócios')\n",
      "('TechTalks Brasil', 'Ética em IA: Limites e Responsabilidades', 89, 'Tecnologia')\n",
      "('TechTalks Brasil', 'Cibersegurança em Tempos de Home Office', 88, 'Tecnologia')\n",
      "('TechTalks Brasil', 'FinTech: Democratizando Serviços Financeiros', 87, 'Tecnologia')\n",
      "('TechTalks Brasil', 'O Futuro da Inteligência Artificial no Brasil', 85, 'Tecnologia')\n",
      "('Negócios em Foco', 'Fusões e Aquisições no Brasil', 85, 'Negócios')\n",
      "('Negócios em Foco', 'Liderança em Tempos de Crise', 82, 'Negócios')\n",
      "('Mente Sana', 'Neuroplasticidade e Aprendizado', 79, 'Saúde')\n",
      "('TechTalks Brasil', 'Blockchain além das Criptomoedas', 78, 'Tecnologia')\n",
      "('Negócios em Foco', 'Growth Hacking para PMEs', 77, 'Negócios')\n",
      "('Negócios em Foco', 'Transformação Digital nas Empresas', 75, 'Negócios')\n",
      "('Design & Inovação', 'Design Systems Escaláveis', 74, 'Design')\n",
      "('Mente Sana', 'Mindfulness no Ambiente Corporativo', 72, 'Saúde')\n",
      "('Design & Inovação', 'Design Thinking na Prática', 71, 'Design')\n"
     ]
    }
   ],
   "source": [
    "sql_ex02 = \"\"\"\n",
    "SELECT\n",
    "    p.nome AS nome_podcast,\n",
    "    e.titulo AS titulo_episodio,\n",
    "    e.duracao_minutos,\n",
    "    p.categoria\n",
    "FROM\n",
    "    podcast p\n",
    "    INNER JOIN episodio e USING(id_podcast)\n",
    "WHERE\n",
    "    e.publico =  1 AND e.duracao_minutos > 70\n",
    "ORDER BY\n",
    "    duracao_minutos DESC\n",
    "\"\"\"\n",
    "\n",
    "db(sql_ex02)"
   ]
  },
  {
   "cell_type": "markdown",
   "id": "3cb10449",
   "metadata": {},
   "source": [
    "Após testar localmente e considerar sua solução correta, faça o envio clicando no botão abaixo!"
   ]
  },
  {
   "cell_type": "code",
   "execution_count": 10,
   "id": "639dde59",
   "metadata": {},
   "outputs": [
    {
     "data": {
      "application/vnd.jupyter.widget-view+json": {
       "model_id": "b4dcf8c813fb41c5ba438dbbb1ae7463",
       "version_major": 2,
       "version_minor": 0
      },
      "text/plain": [
       "interactive(children=(Button(description='Enviar ex02', style=ButtonStyle()), Output()), _dom_classes=('widget…"
      ]
     },
     "metadata": {},
     "output_type": "display_data"
    }
   ],
   "source": [
    "ia.sender(answer=\"sql_ex02\", task=\"ai_md_25_2\", question=\"ex02\", answer_type=\"pyvar\")"
   ]
  },
  {
   "cell_type": "markdown",
   "id": "2d825b2d",
   "metadata": {},
   "source": [
    "**Exercício 3**: A plataforma deseja analisar o engajamento dos hosts em podcasts. Crie uma query que retorne:\n",
    "\n",
    "- O nome do host (coluna `nome_host`);\n",
    "- O cachê por episódio do host (coluna `cache_por_episodio`);\n",
    "- O número total de podcasts que o host apresenta (coluna `qtde_podcasts`);\n",
    "- O número total de episódios que o host apresenta (coluna `qtde_episodios`);\n",
    "- O valor total que seria pago se todos os episódios dos podcasts do host fossem gravados (coluna `valor_total_potencial`).\n",
    "\n",
    "**Obs**:\n",
    "\n",
    "- Cachê representa um valor monetário (dinheiro) pago ao host!\n",
    "- Hosts sem podcasts (ou podcasts sem episódios) também devem ser retornados com valores zerados (onde se aplica).\n",
    "- Para facilitar, iremos ignorar a data de gravação do episódio e as datas de início e fim da participação do host no podcast. Em todos os cálculos, considere todos os podcasts e episódios que o host apresenta.\n",
    "- Ao calcular `qtde_episodios`, considere todos os episódios dos podcasts que o host apresenta.\n",
    "- Para calcular o `valor_total_potencial`, multiplique o número de episódios de cada podcast pelo cachê do host. Considere que o host recebe por todos os episódios dos podcasts que apresenta.\n",
    "- A função (papel) do host no podcast que apresenta está representada na tabela `podcast_host`.\n",
    "- Um host pode ter mais múltiplos papeis no mesmo podcast, mas recebe apenas por um!\n",
    "- Ordene de forma decrescente pelo `valor_total_potencial`. Em caso de empate, ordene de forma crescente pelo nome do host."
   ]
  },
  {
   "cell_type": "code",
   "execution_count": 12,
   "id": "839115bb",
   "metadata": {},
   "outputs": [
    {
     "name": "stdout",
     "output_type": "stream",
     "text": [
      "Executando query:\n",
      "('Carlos Silva', Decimal('800.00'), 3, 16, Decimal('12800.00'))\n",
      "('Felipe Martins', Decimal('650.00'), 3, 18, Decimal('11700.00'))\n",
      "('Ana Rodrigues', Decimal('750.00'), 1, 6, Decimal('4500.00'))\n",
      "('Dr. Pedro Santos', Decimal('900.00'), 1, 5, Decimal('4500.00'))\n",
      "('Júlia Ferreira', Decimal('700.00'), 1, 4, Decimal('2800.00'))\n",
      "('Beatriz Alves', Decimal('550.00'), 1, 3, Decimal('1650.00'))\n",
      "('Lucas Oliveira', Decimal('400.00'), 1, 3, Decimal('1200.00'))\n",
      "('Camila Souza', Decimal('500.00'), 2, 0, Decimal('0.00'))\n",
      "('Marina Costa', Decimal('600.00'), 0, 0, Decimal('0.00'))\n",
      "('Roberto Lima', Decimal('850.00'), 0, 0, Decimal('0.00'))\n"
     ]
    }
   ],
   "source": [
    "sql_ex03 = \"\"\"\n",
    "SELECT \n",
    "    h.nome AS nome_host,\n",
    "    h.cache_por_episodio,\n",
    "    COALESCE(COUNT(DISTINCT id_podcast), 0) AS qtde_podcasts,\n",
    "    COALESCE(COUNT(DISTINCT id_episodio), 0) AS qtde_episodios,\n",
    "    COALESCE(COUNT(DISTINCT id_episodio), 0) * h.cache_por_episodio AS valor_total_potencial\n",
    "FROM\n",
    "    host h\n",
    "    LEFT JOIN podcast_host USING(id_host)\n",
    "    LEFT JOIN podcast USING(id_podcast)\n",
    "    LEFT JOIN episodio USING (id_podcast)\n",
    "GROUP BY\n",
    "    id_host\n",
    "ORDER BY\n",
    "    valor_total_potencial DESC,\n",
    "    nome_host\n",
    "\n",
    "\"\"\"\n",
    "\n",
    "db(sql_ex03)"
   ]
  },
  {
   "cell_type": "markdown",
   "id": "dd3ab87e",
   "metadata": {},
   "source": [
    "Após testar localmente e considerar sua solução correta, faça o envio clicando no botão abaixo!"
   ]
  },
  {
   "cell_type": "code",
   "execution_count": 13,
   "id": "41f8e348",
   "metadata": {},
   "outputs": [
    {
     "data": {
      "application/vnd.jupyter.widget-view+json": {
       "model_id": "e59595267f3a4b30b9ab069f9e14a513",
       "version_major": 2,
       "version_minor": 0
      },
      "text/plain": [
       "interactive(children=(Button(description='Enviar ex03', style=ButtonStyle()), Output()), _dom_classes=('widget…"
      ]
     },
     "metadata": {},
     "output_type": "display_data"
    }
   ],
   "source": [
    "ia.sender(answer=\"sql_ex03\", task=\"ai_md_25_2\", question=\"ex03\", answer_type=\"pyvar\")"
   ]
  },
  {
   "cell_type": "markdown",
   "id": "ec263a01",
   "metadata": {},
   "source": [
    "**Exercício 4**: A equipe de marketing deseja analisar o desempenho dos anúncios por anunciante.\n",
    "\n",
    "Crie uma view `v_relatorio_anunciantes` que retorne:\n",
    "\n",
    "- O nome da empresa anunciante (coluna `nome_empresa`);\n",
    "- O segmento de mercado da empresa (coluna `segmento_mercado`);\n",
    "- O número total de anúncios da empresa (coluna `qtde_anuncios`);\n",
    "- O número total de vezes que os anúncios da empresa foram lidos em episódios (coluna `qtde_leituras`);\n",
    "- A receita total gerada pelos anúncios da empresa (coluna `receita_total`);\n",
    "- A receita média por menção gerada pelos anúncios da empresa (coluna `receita_media_mencao`).\n",
    "\n",
    "**Obs**:\n",
    "- Considere apenas anuncios ativos e com leituras (tabela `anuncio_episodio`) lidas completamente (atributo `lido_completo`).\n",
    "- Considere apenas anunciantes que têm pelo menos 3 anúncios ativos.\n",
    "- Ordene de forma decrescente pela receita total.\n",
    "- A receita total é calculada considerando o valor efetivamente pago quando o anúncio foi veiculado no episódio (ver tabela `anuncio_episodio`).\n",
    "- A receita média por menção é calculada considerando o valor efetivamente pago quando o anúncio foi veiculado no episódio (ver tabela `anuncio_episodio`).\n",
    "- Utilize apenas uma query para criar a view.\n",
    "- Não envie comando de `DROP` para o servidor."
   ]
  },
  {
   "cell_type": "code",
   "execution_count": 55,
   "id": "1662cda0",
   "metadata": {},
   "outputs": [
    {
     "name": "stdout",
     "output_type": "stream",
     "text": [
      "Executando query:\n",
      "0 linhas afetadas.\n"
     ]
    }
   ],
   "source": [
    "sql_ex04 = \"\"\"\n",
    "CREATE OR REPLACE VIEW v_relatorio_anunciantes AS\n",
    "    SELECT\n",
    "        a.nome_empresa,\n",
    "        a.segmento_mercado,\n",
    "        COALESCE(COUNT(DISTINCT id_anuncio), 0) AS qtde_anuncios,\n",
    "        SUM(lido_completo) AS qtde_leituras,\n",
    "        COALESCE(SUM(valor_pago), 0) AS receita_total,\n",
    "        COALESCE(AVG(valor_pago), 0) AS receita_media_mencao\n",
    "    FROM\n",
    "        anunciante a\n",
    "        LEFT JOIN anuncio an USING(id_anunciante)\n",
    "        LEFT JOIN anuncio_episodio ae USING(id_anuncio)\n",
    "    WHERE\n",
    "        an.ativo = 1\n",
    "    GROUP BY\n",
    "        id_anunciante\n",
    "    HAVING\n",
    "        qtde_anuncios >= 3\n",
    "    ORDER BY\n",
    "        receita_total DESC\n",
    "\"\"\"\n",
    "\n",
    "db(sql_ex04)"
   ]
  },
  {
   "cell_type": "markdown",
   "id": "d88b0a2d",
   "metadata": {},
   "source": [
    "Após testar localmente e considerar sua solução correta, faça o envio clicando no botão abaixo!"
   ]
  },
  {
   "cell_type": "code",
   "execution_count": 56,
   "id": "81795de0",
   "metadata": {},
   "outputs": [
    {
     "data": {
      "application/vnd.jupyter.widget-view+json": {
       "model_id": "7894af75317c4dac93ea4c444c5c7916",
       "version_major": 2,
       "version_minor": 0
      },
      "text/plain": [
       "interactive(children=(Button(description='Enviar ex04', style=ButtonStyle()), Output()), _dom_classes=('widget…"
      ]
     },
     "metadata": {},
     "output_type": "display_data"
    }
   ],
   "source": [
    "ia.sender(answer=\"sql_ex04\", task=\"ai_md_25_2\", question=\"ex04\", answer_type=\"pyvar\")"
   ]
  },
  {
   "cell_type": "markdown",
   "id": "e6424149",
   "metadata": {},
   "source": [
    "**Exercício 5**: A plataforma XTREMO lançou um novo tipo de anúncio chamado **\"Sponsored Content\"** que deve ter duração de 60 segundos e preço base de 300.00.\n",
    "\n",
    "Crie uma query para inserir este novo tipo de anúncio na base de dados.\n",
    "\n",
    "**Obs**:\n",
    "\n",
    "- Utilize o ID 5\n",
    "- Utilize descrição `'Conteúdo patrocinado integrado ao episódio com narrativa natural'`."
   ]
  },
  {
   "cell_type": "code",
   "execution_count": 40,
   "id": "94ee2208",
   "metadata": {},
   "outputs": [],
   "source": [
    "sql_ex05 = \"\"\"\n",
    "INSERT INTO xtremo.tipo_anuncio\n",
    "    (id_tipo_anuncio, descricao, nome, duracao_segundos, preco_base)\n",
    "VALUES\n",
    "    (5, \"Conteúdo patrocinado integrado ao episódio com narrativa natural\", \"Sponsored Content\", 60, 300.00)\n",
    "\"\"\"\n",
    "\n",
    "# Descomente a linha abaixo para rodar localmente\n",
    "# db(sql_ex05)"
   ]
  },
  {
   "cell_type": "markdown",
   "id": "00dbd8d6",
   "metadata": {},
   "source": [
    "Após testar localmente e considerar sua solução correta, faça o envio clicando no botão abaixo!"
   ]
  },
  {
   "cell_type": "code",
   "execution_count": 41,
   "id": "2993710a",
   "metadata": {},
   "outputs": [
    {
     "data": {
      "application/vnd.jupyter.widget-view+json": {
       "model_id": "a4f6711cc3074229890741af35f6ac04",
       "version_major": 2,
       "version_minor": 0
      },
      "text/plain": [
       "interactive(children=(Button(description='Enviar ex05', style=ButtonStyle()), Output()), _dom_classes=('widget…"
      ]
     },
     "metadata": {},
     "output_type": "display_data"
    }
   ],
   "source": [
    "ia.sender(answer=\"sql_ex05\", task=\"ai_md_25_2\", question=\"ex05\", answer_type=\"pyvar\")"
   ]
  },
  {
   "cell_type": "markdown",
   "id": "2527e699",
   "metadata": {},
   "source": [
    "**Exercício 6**: No diagrama do modelo relacional, observe a tabela `mensagem`.\n",
    "\n",
    "Esta tabela foi criada para registrar as interações dos ouvintes relacionadas aos episódios (por exemplo, comentários no Youtube).\n",
    "\n",
    "Perceba que:\n",
    "\n",
    "- Falta uma chave extrangeira para a tabela `episodio` (um comentário deve estar relacionado a um episódio).\n",
    "- Falta um atributo para armazenar o texto da mensagem.\n",
    "- O atributo `data_envio` deve armazenar a data e hora da mensagem e não um texto.\n",
    "\n",
    "Crie uma query para alterar a tabela `mensagem` e realizar as modificações necessárias.\n",
    "\n",
    "**Obs**:\n",
    "\n",
    "- Você deve alterar a tabela. Apagar e recriar não será considerada uma solução válida.\n",
    "- O campo  `data_envio` deve ser do tipo `DATETIME`.\n",
    "- Crie um atributo opcional `texto` do tipo `TEXT` para armazenar o texto da mensagem.\n",
    "- Envie apenas uma query."
   ]
  },
  {
   "cell_type": "code",
   "execution_count": 52,
   "id": "ffaedf16",
   "metadata": {},
   "outputs": [],
   "source": [
    "sql_ex06 = \"\"\"\n",
    "ALTER TABLE mensagem\n",
    "    ADD FOREIGN KEY (id_episodio)\n",
    "        REFERENCES episodio(id_episodio),\n",
    "    ADD COLUMN(\n",
    "        texto TEXT\n",
    "    ),\n",
    "    MODIFY COLUMN\n",
    "        data_envio DATETIME;\n",
    "\"\"\"\n",
    "\n",
    "# Descomente a linha abaixo para rodar localmente\n",
    "#db(sql_ex06)"
   ]
  },
  {
   "cell_type": "markdown",
   "id": "c6c3b4ed",
   "metadata": {},
   "source": [
    "Após testar localmente e considerar sua solução correta, faça o envio clicando no botão abaixo!"
   ]
  },
  {
   "cell_type": "code",
   "execution_count": 53,
   "id": "c858ae09",
   "metadata": {},
   "outputs": [
    {
     "data": {
      "application/vnd.jupyter.widget-view+json": {
       "model_id": "cd00d5d4fe434ca4a17631911464aaef",
       "version_major": 2,
       "version_minor": 0
      },
      "text/plain": [
       "interactive(children=(Button(description='Enviar ex06', style=ButtonStyle()), Output()), _dom_classes=('widget…"
      ]
     },
     "metadata": {},
     "output_type": "display_data"
    }
   ],
   "source": [
    "ia.sender(answer=\"sql_ex06\", task=\"ai_md_25_2\", question=\"ex06\", answer_type=\"pyvar\")"
   ]
  },
  {
   "cell_type": "markdown",
   "id": "00f1bf17",
   "metadata": {},
   "source": [
    "### Conferindo as notas!"
   ]
  },
  {
   "cell_type": "code",
   "execution_count": 54,
   "id": "6fd3c721",
   "metadata": {},
   "outputs": [
    {
     "data": {
      "text/markdown": [
       "|    | Atividade   | Exercício   |   Peso |   Nota |   Nota Sem Atraso |   Nota Com Atraso |\n",
       "|---:|:------------|:------------|-------:|-------:|------------------:|------------------:|\n",
       "|  0 | ai_md_25_2  | ex01        |      2 |     10 |                10 |                 0 |\n",
       "|  1 | ai_md_25_2  | ex02        |      3 |     10 |                10 |                 0 |\n",
       "|  2 | ai_md_25_2  | ex03        |      3 |     10 |                10 |                 0 |\n",
       "|  3 | ai_md_25_2  | ex04        |      3 |      0 |                 0 |                 0 |\n",
       "|  4 | ai_md_25_2  | ex05        |      2 |     10 |                10 |                 0 |\n",
       "|  5 | ai_md_25_2  | ex06        |      3 |     10 |                10 |                 0 |"
      ],
      "text/plain": [
       "<IPython.core.display.Markdown object>"
      ]
     },
     "metadata": {},
     "output_type": "display_data"
    }
   ],
   "source": [
    "ia.grades(task=\"ai_md_25_2\")"
   ]
  },
  {
   "cell_type": "markdown",
   "id": "e4cae958",
   "metadata": {},
   "source": [
    "## Parte 2 - Sistema de Gestão de Locadora de Equipamentos\n",
    "\n",
    "A **EquipaLock** é uma empresa especializada no aluguel de de equipamentos para os setores de construção civil, eventos, jardinagem e projetos industriais, atendendo tanto clientes pessoa física quanto jurídica.\n",
    "\n",
    "Você foi contratado pela **EquipaLock** para desenvolver um sistema que permita gerenciar a locação de equipamentos profissionais (ferramentas, máquinas e equipamentos diversos) para clientes.\n",
    "\n",
    "O objetivo é controlar o inventário de equipamentos, registrar locações, calcular valores e acompanhar devoluções.\n",
    "\n",
    "Em reuniões com a equipe da **EquipaLock**, foram levantadas as seguintes informações sobre o domínio de negócio:\n",
    "\n",
    "- **Cadastro de Categorias de Equipamentos**: Os equipamentos são organizados em categorias para facilitar a busca e gestão. Cada categoria deve ter um nome único e uma descrição longa. Todos os atributos são obrigatórios.\n",
    "\n",
    "- **Cadastro de Equipamentos**: O sistema deve permitir o cadastro de equipamentos disponíveis para locação, incluindo nome do equipamento, descrição, número de série (único), categoria, peso, valor da diária de locação (valor monetário) e status atual (disponível, locado, em manutenção). Cada equipamento pertence a uma única categoria de equipamentos. É opcional fornecer o peso do equipamento, todos os outros campos são obrigatórios.\n",
    "\n",
    "- **Cadastro de Clientes**: É necessário cadastrar os clientes que podem alugar equipamentos. As informações incluem: nome completo, CPF ou CNPJ (único), telefone, e-mail e endereço completo (rua, número, cidade, estado). Exceto o CPF/CNPJ, todos os campos são obrigatórios.\n",
    "\n",
    "- **Registro de Locações**: O sistema deve registrar cada locação realizada. Uma locação representa o aluguel de um ou mais equipamentos por um cliente. Para cada locação, deve-se armazenar: o cliente que está locando, a data de início da locação, a data prevista de devolução e a data efetiva de devolução (opcional, preenchida quando o equipamento é devolvido). Cada locação pode incluir múltiplos equipamentos, e para cada equipamento locado deve-se registrar o valor da diária contratada, uma vez que o valor da diária no cadastro de equipamentos irá variar ao longo do tempo.\n",
    "\n",
    "**Observações**:\n",
    "\n",
    "- A empresa deseja que todas as tabelas possuam um identificador único (chave primária) do tipo inteiro.\n",
    "- Em uma locação, considere que todos os equipamentos são devolvidos na mesma data (data efetiva de devolução).\n",
    "- Evite redundância de dados e garanta a integridade referencial entre as tabelas.\n",
    "- Pense nos tipos de dados adequados para cada atributo (por exemplo, datas, valores monetários, textos) e seus tamanhos.\n",
    "\n",
    "**Tarefa:**\n",
    "\n",
    "Com base nas informações fornecidas pela equipe da **EquipaLock**, elabore um **diagrama do modelo relacional (no Workbench)** que represente as entidades, atributos e relacionamentos necessários para implementar o sistema descrito. Certifique-se de identificar chaves primárias, chaves estrangeiras e quaisquer restrições de integridade relevantes.\n",
    "\n",
    "**Dica**:\n",
    "\n",
    "- Evite cruzar linhas de relacionamentos no diagrama.\n",
    "- Evite deixar atributos ocultos ou com seus nomes cortados.\n",
    "\n",
    "**Exercício 7**: Desenhe o diagrama do modelo relacional com uma solução para o problema. Não esqueça de indicar claramente os atributos (obrigatórios e opcionais), tipos, chaves primárias, chaves estrangeiras, e a cardinalidade dos relacionamentos.\n",
    "\n",
    "**Obs:** Salve a imagem do diagrama na pasta `img`. Edite na resposta o caminho para a imagem!"
   ]
  },
  {
   "cell_type": "markdown",
   "id": "1e63f095",
   "metadata": {},
   "source": [
    "<div style=\"background-color: rgba(71, 85, 155, 0.2); padding: 10px; border-radius: 5px; border-left: 4px solid #475569; border: 1px solid rgba(71, 85, 105, 0.3);\">\n",
    "    \n",
    "Edite na resposta o caminho para a imagem!\n",
    "    \n",
    "<img src=\"img/diagrama.png\">\n",
    "\n",
    "</div>"
   ]
  },
  {
   "cell_type": "markdown",
   "id": "180316bc",
   "metadata": {},
   "source": [
    "**Opcional**: caso julgue necessário, utilize o bloco abaixo para justificar decisões tomadas durante o desenho do diagrama."
   ]
  },
  {
   "cell_type": "markdown",
   "id": "c7189336",
   "metadata": {},
   "source": [
    "<div style=\"background-color: rgba(71, 85, 155, 0.2); padding: 10px; border-radius: 5px; border-left: 4px solid #475569; border: 1px solid rgba(71, 85, 105, 0.3);\">\n",
    "    \n",
    "Seu texto AQUI!\n",
    "\n",
    "</div>"
   ]
  },
  {
   "cell_type": "markdown",
   "id": "75805fdb",
   "metadata": {},
   "source": [
    "**Opcional**: caso julgue necessário, utilize o bloco abaixo para relatar algo sobre a prova como um todo"
   ]
  },
  {
   "cell_type": "markdown",
   "id": "6fac7718",
   "metadata": {},
   "source": [
    "<div style=\"background-color: rgba(71, 85, 155, 0.2); padding: 10px; border-radius: 5px; border-left: 4px solid #475569; border: 1px solid rgba(71, 85, 105, 0.3);\">\n",
    "    \n",
    "Seu texto AQUI!\n",
    "\n",
    "</div>"
   ]
  },
  {
   "cell_type": "markdown",
   "id": "8cb7ad9a",
   "metadata": {},
   "source": [
    "## Entrega!\n",
    "\n",
    "É hora de entregar. Faça `zip` da pasta de prova (zip, não rar) e envie no Blackboard."
   ]
  }
 ],
 "metadata": {
  "kernelspec": {
   "display_name": "megadados",
   "language": "python",
   "name": "python3"
  },
  "language_info": {
   "codemirror_mode": {
    "name": "ipython",
    "version": 3
   },
   "file_extension": ".py",
   "mimetype": "text/x-python",
   "name": "python",
   "nbconvert_exporter": "python",
   "pygments_lexer": "ipython3",
   "version": "3.10.18"
  }
 },
 "nbformat": 4,
 "nbformat_minor": 5
}
