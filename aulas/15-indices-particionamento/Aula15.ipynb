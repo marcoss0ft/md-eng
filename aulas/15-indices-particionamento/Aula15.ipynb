{
 "cells": [
  {
   "cell_type": "markdown",
   "id": "f62ded59",
   "metadata": {},
   "source": [
    "# ÍNDICES e PARTICIONAMENTO"
   ]
  },
  {
   "cell_type": "markdown",
   "id": "8a630554",
   "metadata": {},
   "source": [
    "Na aula anterior estudamos os conceitos de **dependências funcionais** e **normalização**. O conhecimento das formas normais propicia verificar a possibilidade de realizar alterações no design das bases de dados, com o objetivo de **evitar repetições** e **recuperar informações de forma fácil**.\n",
    "\n",
    "Entretanto, mesmo obedecendo (ou não) às formas normais, em certas situações a performance de nossas queries em produção se torna sofrível. Nesta aula, veremos alguns recursos que podemos utilizar para melhorar o desempenho das consultas produzidas.\n",
    "\n",
    "Este é um tema bastante relevante. Um engenheiro sem o devido conhecimento pode recomendar, por exemplo, a compra de mais servidores (físicos ou na AWS), quando a aplicação dos conceitos vistos nesta aula poderiam gerar ganhos de múltiplas vezes no tempo de execução de queries!\n",
    "\n",
    "## Instalação da base\n",
    "\n",
    "Vamos utilizar a base de dados sintética disponível no Blackboard. Execute o script `script_elet_001.sql` para criar a base de dados. Este script apenas faz a **DDL**, os dados gerão gerados de forma aleatória neste notebook.\n",
    "\n",
    "## Import das bibliotecas\n",
    "\n",
    "Vamos realizar o import das bibliotecas."
   ]
  },
  {
   "cell_type": "code",
   "execution_count": 1,
   "id": "b2f1597a",
   "metadata": {},
   "outputs": [],
   "source": [
    "import mysql.connector\n",
    "import os\n",
    "import random\n",
    "import numpy as np\n",
    "import pandas as pd\n",
    "from functools import partial\n",
    "from datetime import datetime, timedelta\n",
    "from dotenv import load_dotenv\n",
    "from IPython.display import clear_output"
   ]
  },
  {
   "cell_type": "markdown",
   "id": "33eefa0d",
   "metadata": {},
   "source": [
    "E vamos criar nosso HELPER de conexão com o banco! Perceba que, uma vez configurado o `.env` não precisaremos mais informar usuários, senhas e URLs!"
   ]
  },
  {
   "cell_type": "code",
   "execution_count": 3,
   "id": "f5147533",
   "metadata": {},
   "outputs": [],
   "source": [
    "load_dotenv(override=True)\n",
    "\n",
    "def get_connection_helper():\n",
    "\n",
    "    def run_db_query(connection, query, args=None, verbose=True):\n",
    "        with connection.cursor() as cursor:\n",
    "            if verbose:\n",
    "                print(\"Executando query:\")\n",
    "            cursor.execute(query, args)\n",
    "            for result in cursor:\n",
    "                if verbose:\n",
    "                    print(result)\n",
    "\n",
    "    connection = mysql.connector.connect(\n",
    "        host=os.getenv(\"MD_DB_SERVER\"),\n",
    "        port=int(os.getenv(\"MD_DB_PORT\", 3306)),\n",
    "        user=os.getenv(\"MD_DB_USERNAME\"),\n",
    "        password=os.getenv(\"MD_DB_PASSWORD\"),\n",
    "        database=\"eletrobeer\",\n",
    "    )\n",
    "    return connection, partial(run_db_query, connection)\n",
    "\n",
    "\n",
    "connection, db = get_connection_helper()"
   ]
  },
  {
   "cell_type": "markdown",
   "id": "8f4f8451",
   "metadata": {},
   "source": [
    "## Gerar dados para a base\n",
    "\n",
    "Vamos gerar alguns valores aleatórios e inserir na base de dados `eletrobeer`.\n",
    "\n",
    "Primeiro, defina a quantidade de linhas a serem inseridas e demais variáveis de ambiente:"
   ]
  },
  {
   "cell_type": "code",
   "execution_count": 4,
   "id": "1f8e9393",
   "metadata": {},
   "outputs": [],
   "source": [
    "QTDE_PED = 6000000\n",
    "BATCH_SIZE = 200000\n",
    "\n",
    "START_DATE = datetime(2015, 1, 1)\n",
    "END_DATE = datetime(2022, 12, 31)\n",
    "\n",
    "CIDADES_UF = np.array([\n",
    "    [\"São Paulo\", \"SP\"],\n",
    "    [\"Campinas\", \"SP\"],\n",
    "    [\"Ribeirão Preto\", \"SP\"],\n",
    "    [\"São Roque\", \"SP\"],\n",
    "    [\"Rio de Janeiro\", \"RJ\"],\n",
    "    [\"Macaé\", \"RJ\"],\n",
    "    [\"Angra dos Reis\", \"RJ\"],\n",
    "])\n",
    "NUM_CIDADES = len(CIDADES_UF)\n",
    "DATE_DELTA_DAYS = (END_DATE - START_DATE).days"
   ]
  },
  {
   "cell_type": "markdown",
   "id": "d5df59f5",
   "metadata": {},
   "source": [
    "Vamos definir algumas funções auxiliares"
   ]
  },
  {
   "cell_type": "code",
   "execution_count": 5,
   "id": "5e03e6cd",
   "metadata": {},
   "outputs": [],
   "source": [
    "def gerar_lote_pedidos(start_id, batch_size):\n",
    "    \"\"\"Gera um lote de pedidos com dados aleatórios.\"\"\"\n",
    "    ids_pedido = np.arange(start_id, start_id + batch_size, dtype=np.int32)\n",
    "    ids_cliente = np.random.randint(1000, 10001, size=batch_size, dtype=np.int32)\n",
    "    qtde_itens = np.random.randint(1, 201, size=batch_size, dtype=np.int32)\n",
    "    valor_total = np.random.uniform(15.0, 300000.0, size=batch_size)\n",
    "    \n",
    "    random_days = np.random.randint(0, DATE_DELTA_DAYS + 1, size=batch_size)\n",
    "    datas_criacao = (\n",
    "        pd.to_datetime(START_DATE) + pd.to_timedelta(random_days, unit='D')\n",
    "    ).strftime(\"%Y-%m-%d\").to_numpy()\n",
    "    \n",
    "    indices_cidade = np.random.randint(0, NUM_CIDADES, size=batch_size)\n",
    "    cidades = CIDADES_UF[indices_cidade, 0]\n",
    "    ufs = CIDADES_UF[indices_cidade, 1]\n",
    "\n",
    "    pedidos = list(zip(\n",
    "        ids_pedido.tolist(),\n",
    "        ids_cliente.tolist(),\n",
    "        datas_criacao,\n",
    "        qtde_itens.tolist(),\n",
    "        valor_total.tolist(),\n",
    "        cidades,\n",
    "        ufs\n",
    "    ))\n",
    "    \n",
    "    return pedidos\n",
    "\n",
    "\n",
    "def insert_pedidos(connection, pedidos):\n",
    "    \"\"\"Insere um lote de pedidos na tabela `pedido`.\"\"\"\n",
    "    with connection.cursor() as cursor:\n",
    "        sql = \"\"\"INSERT INTO eletrobeer.pedido\n",
    "        (id_pedido, id_cliente, data_criacao, qtde_itens, valor_total, cidade_entrega, uf_entrega)\n",
    "        VALUES (%s, %s, %s, %s, %s, %s, %s)\"\"\"\n",
    "        cursor.executemany(sql, pedidos)"
   ]
  },
  {
   "cell_type": "markdown",
   "id": "3d1f7aa7",
   "metadata": {},
   "source": [
    "Garantir que a tabela `pedido` está vazia"
   ]
  },
  {
   "cell_type": "code",
   "execution_count": 6,
   "id": "65615a1d",
   "metadata": {},
   "outputs": [
    {
     "name": "stdout",
     "output_type": "stream",
     "text": [
      "Executando query:\n"
     ]
    }
   ],
   "source": [
    "db(\"TRUNCATE eletrobeer.pedido\")"
   ]
  },
  {
   "cell_type": "markdown",
   "id": "fa327c6d",
   "metadata": {},
   "source": [
    "Então, geramos os dados aleatórios.\n",
    "\n",
    "**<span style=\"color:red\">Atenção</span>**: Este processo pode demorar alguns minutos! A cada aproximadamente 5 segundos, `BATCH_SIZE` inserções devem ser realizadas, com o retorno da mensagem `Completou 800,000 pedidos (Lote 1 de 30)` e assim por diante!\n",
    "\n",
    "**Dica:** enquanto executa a próxima célula, apenas por curiosidade, leia o seguinte material https://dev.mysql.com/doc/refman/8.0/en/optimizing-innodb-bulk-data-loading.html."
   ]
  },
  {
   "cell_type": "code",
   "execution_count": 7,
   "id": "de7f700e",
   "metadata": {},
   "outputs": [
    {
     "name": "stdout",
     "output_type": "stream",
     "text": [
      "Completou 6,000,000 pedidos (Lote 30 de 30)\n",
      "Processamento de 6,000,000 pedidos concluído.\n"
     ]
    }
   ],
   "source": [
    "num_batches = (QTDE_PED + BATCH_SIZE - 1) // BATCH_SIZE\n",
    "\n",
    "print(f\"Iniciando a geração e processamento de {QTDE_PED:,} pedidos em {num_batches} lotes de {BATCH_SIZE:,}...\")\n",
    "\n",
    "for i in range(num_batches):\n",
    "    start_id = i * BATCH_SIZE + 1\n",
    "    \n",
    "    current_batch_size = min(BATCH_SIZE, QTDE_PED - (start_id - 1))\n",
    "    \n",
    "    pedidos = gerar_lote_pedidos(start_id, current_batch_size)\n",
    "    \n",
    "    if connection:\n",
    "        insert_pedidos(connection, pedidos)\n",
    "        \n",
    "    if (i + 1) * BATCH_SIZE % BATCH_SIZE == 0:\n",
    "        clear_output(wait=True)\n",
    "        print(f\"Completou {(i + 1) * BATCH_SIZE:,} pedidos (Lote {i+1} de {num_batches})\")\n",
    "\n",
    "print(f\"Processamento de {QTDE_PED:,} pedidos concluído.\")"
   ]
  },
  {
   "cell_type": "markdown",
   "id": "7df92101",
   "metadata": {},
   "source": [
    "E vamos fazer `commit` para garantir que os dados foram salvos!"
   ]
  },
  {
   "cell_type": "code",
   "execution_count": 8,
   "id": "b276666e",
   "metadata": {},
   "outputs": [],
   "source": [
    "connection.commit()"
   ]
  },
  {
   "cell_type": "markdown",
   "id": "4399684e",
   "metadata": {},
   "source": [
    "## Consultando a base\n",
    "\n",
    "Vamos fazer algumas consultas. Como nosso objetivo é avaliar a performance das queries, precisamos analisar o tempo que cada query necessita para executar.\n",
    "\n",
    "Uma opção é fazer o cálculo direto no Python:"
   ]
  },
  {
   "cell_type": "code",
   "execution_count": 9,
   "id": "d2d60e58",
   "metadata": {},
   "outputs": [
    {
     "name": "stdout",
     "output_type": "stream",
     "text": [
      "Executando query:\n",
      "(6000000,)\n",
      "Time spent: 0.3182504177093506 seconds\n"
     ]
    }
   ],
   "source": [
    "import time\n",
    "\n",
    "start_time = time.time() # get current time\n",
    "\n",
    "db(\"SELECT COUNT(*) FROM pedido\")\n",
    "\n",
    "end_time = time.time() # get current time again\n",
    "\n",
    "time_spent = end_time - start_time # calculate time spent\n",
    "\n",
    "print(\"Time spent:\", time_spent, \"seconds\")"
   ]
  },
  {
   "cell_type": "markdown",
   "id": "b41ea517",
   "metadata": {},
   "source": [
    "Entretanto, desta forma estamos considerando o tempo total, incluindo o tempo gasto pelas funções do próprio Python. Talvez não seja um tempo significativo, mas como poderia ser, melhor evitar e considerar o tempo isolado: apenas o que foi gasto de fato para a query executar (após ter sido recebida pelo RDBMS MySQL)."
   ]
  },
  {
   "cell_type": "markdown",
   "id": "5783f3e6",
   "metadata": {},
   "source": [
    "Para isto, vamos ativar **profiling**:"
   ]
  },
  {
   "cell_type": "code",
   "execution_count": 10,
   "id": "7367d680",
   "metadata": {},
   "outputs": [],
   "source": [
    "db(\"SET profiling = 1;\", verbose=False)"
   ]
  },
  {
   "cell_type": "markdown",
   "id": "8d329cf2",
   "metadata": {},
   "source": [
    "**Obs**: quando quiser desativar, utilize\n",
    "\n",
    "```mysql\n",
    "SET profiling = 0;\n",
    "```\n",
    "\n",
    "Então podemos executar algum **SQL**"
   ]
  },
  {
   "cell_type": "code",
   "execution_count": 11,
   "id": "87796bd6",
   "metadata": {},
   "outputs": [
    {
     "name": "stdout",
     "output_type": "stream",
     "text": [
      "Executando query:\n",
      "(6000000,)\n"
     ]
    }
   ],
   "source": [
    "db(\"SELECT COUNT(*) FROM pedido\")"
   ]
  },
  {
   "cell_type": "markdown",
   "id": "b9bf2d13",
   "metadata": {},
   "source": [
    "Um outro exemplo de **SQL**"
   ]
  },
  {
   "cell_type": "code",
   "execution_count": 12,
   "id": "5fcffa75",
   "metadata": {},
   "outputs": [
    {
     "name": "stdout",
     "output_type": "stream",
     "text": [
      "Executando query:\n",
      "(7, 8407, datetime.date(2015, 10, 16), 63, Decimal('59811.99'), 'Angra dos Reis', 'RJ')\n"
     ]
    }
   ],
   "source": [
    "db(\"SELECT * FROM pedido ORDER BY cidade_entrega ASC LIMIT 1\")"
   ]
  },
  {
   "cell_type": "markdown",
   "id": "c2987a3b",
   "metadata": {},
   "source": [
    "E ver, no segundo elemento de cada tupla, qual o tempo gasto para a query ser executada."
   ]
  },
  {
   "cell_type": "code",
   "execution_count": 13,
   "id": "a8299952",
   "metadata": {},
   "outputs": [
    {
     "name": "stdout",
     "output_type": "stream",
     "text": [
      "Executando query:\n",
      "(1, 0.34389675, 'SELECT COUNT(*) FROM pedido')\n",
      "(2, 3.102552, 'SELECT * FROM pedido ORDER BY cidade_entrega ASC LIMIT 1')\n"
     ]
    }
   ],
   "source": [
    "db(\"SHOW PROFILES;\")"
   ]
  },
  {
   "cell_type": "markdown",
   "id": "9c18a74d",
   "metadata": {},
   "source": [
    "Então, podemos executar novas queries e ver o seu tempo consumido:\n",
    "\n",
    "**Dica**: aqui, `verbose=False` executará a query, mas não exibirá o resultado na saída. Podemos fazer assim quando nosso interesse é em apenas ter o tempo da query e não o resultado"
   ]
  },
  {
   "cell_type": "code",
   "execution_count": 14,
   "id": "e50ef6a8",
   "metadata": {},
   "outputs": [
    {
     "name": "stdout",
     "output_type": "stream",
     "text": [
      "Executando query:\n",
      "(1, 0.34389675, 'SELECT COUNT(*) FROM pedido')\n",
      "(2, 3.102552, 'SELECT * FROM pedido ORDER BY cidade_entrega ASC LIMIT 1')\n",
      "(3, 0.27147825, 'SELECT COUNT(*) as QTDE_LINHAS FROM pedido')\n"
     ]
    }
   ],
   "source": [
    "sql = \"SELECT COUNT(*) as QTDE_LINHAS FROM pedido\"\n",
    "\n",
    "db(sql, verbose=False)\n",
    "db(\"SHOW PROFILES;\")"
   ]
  },
  {
   "cell_type": "markdown",
   "id": "2d92a802",
   "metadata": {},
   "source": [
    "Utilize `SET PROFILING_HISTORY_SIZE = ???;`, trocando `???` pelo **número de queries** que quer ver no resultado dos profiles, para limitar a exibição as últimas **número de queries**."
   ]
  },
  {
   "cell_type": "code",
   "execution_count": 15,
   "id": "aeae37a9",
   "metadata": {},
   "outputs": [
    {
     "name": "stdout",
     "output_type": "stream",
     "text": [
      "Executando query:\n",
      "(3, 0.27147825, 'SELECT COUNT(*) as QTDE_LINHAS FROM pedido')\n",
      "(4, 0.00035975, 'SET PROFILING_HISTORY_SIZE = 2')\n"
     ]
    }
   ],
   "source": [
    "db(\"SET PROFILING_HISTORY_SIZE = 2;\", verbose=False)\n",
    "db(\"SHOW PROFILES;\")"
   ]
  },
  {
   "cell_type": "markdown",
   "id": "05e02c33",
   "metadata": {},
   "source": [
    "Vamos deixar configurado para `6`. Você pode alterar quando quiser!"
   ]
  },
  {
   "cell_type": "code",
   "execution_count": 16,
   "id": "56b16c24",
   "metadata": {},
   "outputs": [
    {
     "name": "stdout",
     "output_type": "stream",
     "text": [
      "Executando query:\n",
      "(3, 0.27147825, 'SELECT COUNT(*) as QTDE_LINHAS FROM pedido')\n",
      "(4, 0.00035975, 'SET PROFILING_HISTORY_SIZE = 2')\n",
      "(5, 0.00020825, 'SET PROFILING_HISTORY_SIZE = 6')\n"
     ]
    }
   ],
   "source": [
    "db(\"SET PROFILING_HISTORY_SIZE = 6;\", verbose=False)\n",
    "db(\"SHOW PROFILES;\")"
   ]
  },
  {
   "cell_type": "markdown",
   "id": "13af4b1a",
   "metadata": {},
   "source": [
    "### Explorando novos exemplos\n",
    "\n",
    "Vamos executar algumas consultas e verificar seus tempos de execução.\n",
    "\n",
    "**Dica**: leia cada query e tente entender o que ela faz!"
   ]
  },
  {
   "cell_type": "code",
   "execution_count": 17,
   "id": "f9a9bf51",
   "metadata": {},
   "outputs": [
    {
     "name": "stdout",
     "output_type": "stream",
     "text": [
      "Executando query:\n",
      "(855743,)\n",
      "Executando query:\n",
      "(857084,)\n",
      "Executando query:\n",
      "(1712827,)\n",
      "Executando query:\n",
      "(1712655,)\n",
      "Executando query:\n",
      "(857084,)\n",
      "Executando query:\n",
      "(11, 1333, datetime.date(2022, 7, 19), 52, Decimal('22675.44'), 'São Roque', 'SP')\n",
      "(12, 9949, datetime.date(2019, 5, 26), 76, Decimal('295677.71'), 'São Roque', 'SP')\n",
      "(4, 3963, datetime.date(2022, 1, 27), 185, Decimal('273296.47'), 'São Roque', 'SP')\n",
      "(28, 5633, datetime.date(2018, 1, 9), 94, Decimal('251777.12'), 'São Roque', 'SP')\n",
      "(6, 3824, datetime.date(2016, 8, 21), 135, Decimal('47693.05'), 'São Roque', 'SP')\n",
      "Executando query:\n",
      "(6, 1.8067405, 'SELECT count(*) FROM pedido p\\nWHERE p.cidade_entrega = \"São Paulo\"')\n",
      "(7, 1.48809075, 'SELECT count(*) FROM pedido p\\nWHERE p.cidade_entrega = \"Rio de Janeiro\"')\n",
      "(8, 2.0048515, 'SELECT count(*) FROM pedido p\\nWHERE p.cidade_entrega IN (\"Rio de Janeiro\", \"São Paulo\")')\n",
      "(9, 1.46724825, 'SELECT count(*) FROM pedido p\\nWHERE p.cidade_entrega LIKE \"São%\"')\n",
      "(10, 1.849854, 'SELECT count(*) FROM pedido p\\nWHERE p.cidade_entrega LIKE \"%de%\"')\n",
      "(11, 2.923782, 'SELECT * FROM pedido ORDER BY cidade_entrega DESC LIMIT 5')\n"
     ]
    }
   ],
   "source": [
    "sql1 = \"\"\"SELECT count(*) FROM pedido p\n",
    "WHERE p.cidade_entrega = \"São Paulo\";\"\"\"\n",
    "\n",
    "sql2 = \"\"\"SELECT count(*) FROM pedido p\n",
    "WHERE p.cidade_entrega = \"Rio de Janeiro\";\"\"\"\n",
    "\n",
    "sql3 = \"\"\"SELECT count(*) FROM pedido p\n",
    "WHERE p.cidade_entrega IN (\"Rio de Janeiro\", \"São Paulo\");\"\"\"\n",
    "\n",
    "sql4 = \"\"\"SELECT count(*) FROM pedido p\n",
    "WHERE p.cidade_entrega LIKE \"São%\";\"\"\"\n",
    "\n",
    "sql5 = r\"\"\"SELECT count(*) FROM pedido p\n",
    "WHERE p.cidade_entrega LIKE \"%de%\";\"\"\"\n",
    "\n",
    "sql6 = \"SELECT * FROM pedido ORDER BY cidade_entrega DESC LIMIT 5\"\n",
    "\n",
    "db(sql1)\n",
    "db(sql2)\n",
    "db(sql3)\n",
    "db(sql4)\n",
    "db(sql5)\n",
    "db(sql6)\n",
    "\n",
    "db(\"SHOW PROFILES;\")"
   ]
  },
  {
   "cell_type": "markdown",
   "id": "0934d6e5",
   "metadata": {},
   "source": [
    "### MEGADADOS?!\n",
    "\n",
    "Podemos perceber que esta base tem (deveria ter!!!) 4 milhões de linhas."
   ]
  },
  {
   "cell_type": "code",
   "execution_count": 18,
   "id": "a0e99ad9",
   "metadata": {},
   "outputs": [
    {
     "name": "stdout",
     "output_type": "stream",
     "text": [
      "Executando query:\n",
      "(6000000,)\n"
     ]
    }
   ],
   "source": [
    "sql = \"SELECT COUNT(*) as QTDE_LINHAS FROM pedido\"\n",
    "\n",
    "db(sql)"
   ]
  },
  {
   "cell_type": "markdown",
   "id": "98a07d00",
   "metadata": {},
   "source": [
    "No resultados do `SHOW PROFILES`, vemos que o tempo é quase zero. Mas não se engane, estamos mantendo um ambiente controlado, com apenas uma tabela e realizando queries simples o suficiente para entendermos o que está acontecendo.\n",
    "\n",
    "Em uma situação do mercado profissional, prepare-se para trabalhar com milhões ou bilhões de linhas em dezenas ou centenas de tabelas, construindo queries de centenas e até milhares de linhas que rodam milhares ou milhões de vezes! As situações de dependência entre múltiplas colunas e tabelas gerará muitas situações onde os conceitos da aula poderão ser aplicados.\n",
    "\n",
    "**Dica**: No MySQL Workbench, dê botão direito na tabela / Table Inspector. Abra o explorer e confira o tamanho do arquivo contido no **Data path**! Novamente, em uma situação de mercado, espere gigabytes!"
   ]
  },
  {
   "cell_type": "markdown",
   "id": "76453329",
   "metadata": {},
   "source": [
    "### Índices\n",
    "\n",
    "Índices são estruturas de dados que facilitam a localização de informação no banco de dados.\n",
    "\n",
    "**Obs**: Link para simular `BTREE` https://www.cs.usfca.edu/~galles/visualization/BTree.html"
   ]
  },
  {
   "cell_type": "markdown",
   "id": "818bd2fc",
   "metadata": {},
   "source": [
    "Para criar um índice, vamos utilizar a sintaxe:\n",
    "```mysql\n",
    "CREATE INDEX index_name [index_type] \n",
    " ON tbl_name (index_col_name,...)\n",
    "```\n",
    "\n",
    "Por exemplo:\n",
    "\n",
    "```mysql\n",
    "-- Por padrão, o index será BTREE\n",
    "CREATE INDEX pedido_cidade_entrega_IDX\n",
    " ON eletrobeer.pedido (cidade_entrega);\n",
    "```"
   ]
  },
  {
   "cell_type": "markdown",
   "id": "0d495875",
   "metadata": {},
   "source": [
    "É importante lembrar que nem todos os engines suportam índice **HASH**. A engine padrão da versão que utilizamos (**InnoDB**) não suporta!"
   ]
  },
  {
   "cell_type": "code",
   "execution_count": 19,
   "id": "da478f43",
   "metadata": {},
   "outputs": [
    {
     "name": "stdout",
     "output_type": "stream",
     "text": [
      "Executando query:\n",
      "('ndbcluster', 'NO', 'Clustered, fault-tolerant tables', None, None, None)\n",
      "('MEMORY', 'YES', 'Hash based, stored in memory, useful for temporary tables', 'NO', 'NO', 'NO')\n",
      "('InnoDB', 'DEFAULT', 'Supports transactions, row-level locking, and foreign keys', 'YES', 'YES', 'YES')\n",
      "('PERFORMANCE_SCHEMA', 'YES', 'Performance Schema', 'NO', 'NO', 'NO')\n",
      "('MyISAM', 'YES', 'MyISAM storage engine', 'NO', 'NO', 'NO')\n",
      "('FEDERATED', 'NO', 'Federated MySQL storage engine', None, None, None)\n",
      "('ndbinfo', 'NO', 'MySQL Cluster system information storage engine', None, None, None)\n",
      "('MRG_MYISAM', 'YES', 'Collection of identical MyISAM tables', 'NO', 'NO', 'NO')\n",
      "('BLACKHOLE', 'YES', '/dev/null storage engine (anything you write to it disappears)', 'NO', 'NO', 'NO')\n",
      "('CSV', 'YES', 'CSV storage engine', 'NO', 'NO', 'NO')\n",
      "('ARCHIVE', 'YES', 'Archive storage engine', 'NO', 'NO', 'NO')\n"
     ]
    }
   ],
   "source": [
    "db(\"SHOW ENGINES;\")"
   ]
  },
  {
   "cell_type": "markdown",
   "id": "33b06424",
   "metadata": {},
   "source": [
    "Vamos criar um índice na coluna `cidade_entrega` e repetir as queries.\n",
    "\n",
    "Mas antes, vamos consultar se existe algum índice atualmente nesta tabela!"
   ]
  },
  {
   "cell_type": "code",
   "execution_count": 20,
   "id": "92519e4e",
   "metadata": {},
   "outputs": [
    {
     "name": "stdout",
     "output_type": "stream",
     "text": [
      "Executando query:\n",
      "('pedido', 0, 'PRIMARY', 1, 'id_pedido', 'A', 5751647, None, None, '', 'BTREE', '', '', 'YES', None)\n"
     ]
    }
   ],
   "source": [
    "db(\"SHOW INDEX FROM pedido;\")"
   ]
  },
  {
   "cell_type": "markdown",
   "id": "27a7519d",
   "metadata": {},
   "source": [
    "Perceba que já existe um índice. Por que ele está aí se ainda não criamos nenhum?!"
   ]
  },
  {
   "cell_type": "markdown",
   "id": "9a690305",
   "metadata": {},
   "source": [
    "<div style=\"background-color: rgba(71, 85, 155, 0.2); padding: 10px; border-radius: 5px; border-left: 4px solid #475569; border: 1px solid rgba(71, 85, 105, 0.3);\">\n",
    "\n",
    "Sua resposta AQUI!\n",
    "\n",
    "</div>"
   ]
  },
  {
   "cell_type": "markdown",
   "id": "daad3c35",
   "metadata": {},
   "source": [
    "<a href=\"#\" title=\"O índice foi criado para a coluna que é chave primária! Isto é feito por padrão, uma vez que a chave acaba sendo utilizada em diversas consultas e joins.\">Pare o  mouse aqui para ver a resposta</a>"
   ]
  },
  {
   "cell_type": "markdown",
   "id": "bba3c536",
   "metadata": {},
   "source": [
    "Então criamos o índice na coluna `cidade_entrega`:"
   ]
  },
  {
   "cell_type": "code",
   "execution_count": 21,
   "id": "e3f610a1",
   "metadata": {},
   "outputs": [
    {
     "name": "stdout",
     "output_type": "stream",
     "text": [
      "Executando query:\n"
     ]
    }
   ],
   "source": [
    "db(\"CREATE INDEX pedido_cidade_entrega_IDX ON eletrobeer.pedido (cidade_entrega);\")"
   ]
  },
  {
   "cell_type": "markdown",
   "id": "c0b546c7",
   "metadata": {},
   "source": [
    "E conferimos novamente os índices existentes"
   ]
  },
  {
   "cell_type": "code",
   "execution_count": 22,
   "id": "f96998fb",
   "metadata": {},
   "outputs": [
    {
     "name": "stdout",
     "output_type": "stream",
     "text": [
      "Executando query:\n",
      "('pedido', 0, 'PRIMARY', 1, 'id_pedido', 'A', 5751647, None, None, '', 'BTREE', '', '', 'YES', None)\n",
      "('pedido', 1, 'pedido_cidade_entrega_IDX', 1, 'cidade_entrega', 'A', 6, None, None, 'YES', 'BTREE', '', '', 'YES', None)\n"
     ]
    }
   ],
   "source": [
    "db(\"SHOW INDEX FROM pedido;\")"
   ]
  },
  {
   "cell_type": "markdown",
   "id": "dc7b5d57",
   "metadata": {},
   "source": [
    "Caso queira ver o título das coluas, execute o `SHOW INDEX FROM pedido;` direto no MySQL WorkBench!\n",
    "\n",
    "Agora repetimos as queries. Compare o tempo necessários para suas execuções."
   ]
  },
  {
   "cell_type": "code",
   "execution_count": 23,
   "id": "554b23bd",
   "metadata": {},
   "outputs": [
    {
     "name": "stdout",
     "output_type": "stream",
     "text": [
      "Executando query:\n",
      "(855743,)\n",
      "Executando query:\n",
      "(857084,)\n",
      "Executando query:\n",
      "(1712827,)\n",
      "Executando query:\n",
      "(1712655,)\n",
      "Executando query:\n",
      "(857084,)\n",
      "Executando query:\n",
      "(5999983, 5359, datetime.date(2022, 5, 8), 123, Decimal('143364.78'), 'São Roque', 'SP')\n",
      "(5999977, 5774, datetime.date(2022, 3, 6), 59, Decimal('242203.06'), 'São Roque', 'SP')\n",
      "(5999974, 1490, datetime.date(2020, 6, 7), 150, Decimal('23525.21'), 'São Roque', 'SP')\n",
      "(5999948, 9333, datetime.date(2015, 6, 7), 161, Decimal('264705.19'), 'São Roque', 'SP')\n",
      "(5999944, 3858, datetime.date(2022, 5, 19), 5, Decimal('214935.79'), 'São Roque', 'SP')\n",
      "Executando query:\n",
      "(17, 0.3485355, 'SELECT count(*) FROM pedido p\\nWHERE p.cidade_entrega = \"São Paulo\"')\n",
      "(18, 0.21028775, 'SELECT count(*) FROM pedido p\\nWHERE p.cidade_entrega = \"Rio de Janeiro\"')\n",
      "(19, 0.97835675, 'SELECT count(*) FROM pedido p\\nWHERE p.cidade_entrega IN (\"Rio de Janeiro\", \"São Paulo\")')\n",
      "(20, 0.447218, 'SELECT count(*) FROM pedido p\\nWHERE p.cidade_entrega LIKE \"São%\"')\n",
      "(21, 1.19884175, 'SELECT count(*) FROM pedido p\\nWHERE p.cidade_entrega LIKE \"%de%\"')\n",
      "(22, 0.04010475, 'SELECT * FROM pedido ORDER BY cidade_entrega DESC LIMIT 5')\n"
     ]
    }
   ],
   "source": [
    "sql1 = \"\"\"SELECT count(*) FROM pedido p\n",
    "WHERE p.cidade_entrega = \"São Paulo\";\"\"\"\n",
    "\n",
    "sql2 = \"\"\"SELECT count(*) FROM pedido p\n",
    "WHERE p.cidade_entrega = \"Rio de Janeiro\";\"\"\"\n",
    "\n",
    "sql3 = \"\"\"SELECT count(*) FROM pedido p\n",
    "WHERE p.cidade_entrega IN (\"Rio de Janeiro\", \"São Paulo\");\"\"\"\n",
    "\n",
    "sql4 = \"\"\"SELECT count(*) FROM pedido p\n",
    "WHERE p.cidade_entrega LIKE \"São%\";\"\"\"\n",
    "\n",
    "sql5 = r\"\"\"SELECT count(*) FROM pedido p\n",
    "WHERE p.cidade_entrega LIKE \"%de%\";\"\"\"\n",
    "\n",
    "sql6 = \"SELECT * FROM pedido ORDER BY cidade_entrega DESC LIMIT 5\"\n",
    "\n",
    "db(sql1)\n",
    "db(sql2)\n",
    "db(sql3)\n",
    "db(sql4)\n",
    "db(sql5)\n",
    "db(sql6)\n",
    "\n",
    "db(\"SHOW PROFILES;\")"
   ]
  },
  {
   "cell_type": "markdown",
   "id": "c4c7b946",
   "metadata": {},
   "source": [
    "Compare o tempo **antes** *versus* **depois** da criação do índice. Apesar de não estamos analisando uma amostra de tamanho 1 (CDados manda oi!), é esperado que obtenha uma melhora de múltiplas vezes em algumas queries, mas em outras nem tanto. Você consegue explicar o por que?!\n",
    "\n",
    "**Dica**: https://dev.mysql.com/doc/refman/8.0/en/index-btree-hash.html#btree-index-characteristics"
   ]
  },
  {
   "cell_type": "markdown",
   "id": "10d0c736",
   "metadata": {},
   "source": [
    "<div style=\"background-color: rgba(71, 85, 155, 0.2); padding: 10px; border-radius: 5px; border-left: 4px solid #475569; border: 1px solid rgba(71, 85, 105, 0.3);\">\n",
    "\n",
    "Sua resposta AQUI!\n",
    "\n",
    "</div>"
   ]
  },
  {
   "cell_type": "markdown",
   "id": "b04db159",
   "metadata": {},
   "source": [
    "#### Testando com outros campos e queries!\n",
    "\n",
    "Vamos testar com com outros campos e queries!"
   ]
  },
  {
   "cell_type": "code",
   "execution_count": 24,
   "id": "1f7f99ec",
   "metadata": {},
   "outputs": [],
   "source": [
    "db(\"SET PROFILING_HISTORY_SIZE = 4;\", verbose=False)"
   ]
  },
  {
   "cell_type": "code",
   "execution_count": 25,
   "id": "f157a8bf",
   "metadata": {},
   "outputs": [
    {
     "name": "stdout",
     "output_type": "stream",
     "text": [
      "Executando query:\n",
      "(29999,)\n",
      "Executando query:\n",
      "(120394,)\n",
      "Executando query:\n",
      "(479855,)\n",
      "Executando query:\n",
      "(119857,)\n",
      "Executando query:\n",
      "(24, 1.77885075, 'SELECT count(*) FROM pedido p\\nWHERE p.qtde_itens = 8')\n",
      "(25, 1.3654305, 'SELECT count(*) FROM pedido p\\nWHERE p.qtde_itens < 5')\n",
      "(26, 1.29889725, 'SELECT count(*) FROM pedido p\\nWHERE p.qtde_itens BETWEEN 5 AND 20')\n",
      "(27, 1.5270245, 'SELECT count(*) FROM pedido p\\nWHERE p.qtde_itens IN (8, 15, 20, 45)')\n"
     ]
    }
   ],
   "source": [
    "sql1 = \"\"\"SELECT count(*) FROM pedido p\n",
    "WHERE p.qtde_itens = 8;\"\"\"\n",
    "\n",
    "sql2 = \"\"\"SELECT count(*) FROM pedido p\n",
    "WHERE p.qtde_itens < 5;\"\"\"\n",
    "\n",
    "sql3 = \"\"\"SELECT count(*) FROM pedido p\n",
    "WHERE p.qtde_itens BETWEEN 5 AND 20;\"\"\"\n",
    "\n",
    "sql4 = \"\"\"SELECT count(*) FROM pedido p\n",
    "WHERE p.qtde_itens IN (8, 15, 20, 45);\"\"\"\n",
    "\n",
    "db(sql1)\n",
    "db(sql2)\n",
    "db(sql3)\n",
    "db(sql4)\n",
    "\n",
    "db(\"SHOW PROFILES;\")"
   ]
  },
  {
   "cell_type": "markdown",
   "id": "292a650d",
   "metadata": {},
   "source": [
    "Conferindo os índices atuais"
   ]
  },
  {
   "cell_type": "code",
   "execution_count": 26,
   "id": "a77c0f1a",
   "metadata": {},
   "outputs": [
    {
     "name": "stdout",
     "output_type": "stream",
     "text": [
      "Executando query:\n",
      "('pedido', 0, 'PRIMARY', 1, 'id_pedido', 'A', 5751647, None, None, '', 'BTREE', '', '', 'YES', None)\n",
      "('pedido', 1, 'pedido_cidade_entrega_IDX', 1, 'cidade_entrega', 'A', 6, None, None, 'YES', 'BTREE', '', '', 'YES', None)\n"
     ]
    }
   ],
   "source": [
    "db(\"SHOW INDEX FROM pedido;\")"
   ]
  },
  {
   "cell_type": "markdown",
   "id": "ff33c53c",
   "metadata": {},
   "source": [
    "Crie um index **BTREE** baseado na coluna `qtde_itens`"
   ]
  },
  {
   "cell_type": "code",
   "execution_count": 27,
   "id": "674763ae",
   "metadata": {},
   "outputs": [
    {
     "name": "stdout",
     "output_type": "stream",
     "text": [
      "Executando query:\n"
     ]
    }
   ],
   "source": [
    "db(\"CREATE INDEX pedido_qtde_itens_IDX ON eletrobeer.pedido (qtde_itens);\")"
   ]
  },
  {
   "cell_type": "markdown",
   "id": "5b9a6655",
   "metadata": {},
   "source": [
    "Conferindo os índices"
   ]
  },
  {
   "cell_type": "code",
   "execution_count": 28,
   "id": "eef6f309",
   "metadata": {},
   "outputs": [
    {
     "name": "stdout",
     "output_type": "stream",
     "text": [
      "Executando query:\n",
      "('pedido', 0, 'PRIMARY', 1, 'id_pedido', 'A', 5751647, None, None, '', 'BTREE', '', '', 'YES', None)\n",
      "('pedido', 1, 'pedido_cidade_entrega_IDX', 1, 'cidade_entrega', 'A', 6, None, None, 'YES', 'BTREE', '', '', 'YES', None)\n",
      "('pedido', 1, 'pedido_qtde_itens_IDX', 1, 'qtde_itens', 'A', 201, None, None, 'YES', 'BTREE', '', '', 'YES', None)\n"
     ]
    }
   ],
   "source": [
    "db(\"SHOW INDEX FROM pedido;\")"
   ]
  },
  {
   "cell_type": "markdown",
   "id": "1c5304e1",
   "metadata": {},
   "source": [
    "Repetindo as consultas"
   ]
  },
  {
   "cell_type": "code",
   "execution_count": 29,
   "id": "ca09cd09",
   "metadata": {},
   "outputs": [
    {
     "name": "stdout",
     "output_type": "stream",
     "text": [
      "Executando query:\n",
      "(29999,)\n",
      "Executando query:\n",
      "(120394,)\n",
      "Executando query:\n",
      "(479855,)\n",
      "Executando query:\n",
      "(119857,)\n",
      "Executando query:\n",
      "(31, 0.00726175, 'SELECT count(*) FROM pedido p\\nWHERE p.qtde_itens = 8')\n",
      "(32, 0.0354705, 'SELECT count(*) FROM pedido p\\nWHERE p.qtde_itens < 5')\n",
      "(33, 0.07621825, 'SELECT count(*) FROM pedido p\\nWHERE p.qtde_itens BETWEEN 5 AND 20')\n",
      "(34, 0.0230045, 'SELECT count(*) FROM pedido p\\nWHERE p.qtde_itens IN (8, 15, 20, 45)')\n"
     ]
    }
   ],
   "source": [
    "sql1 = \"\"\"SELECT count(*) FROM pedido p\n",
    "WHERE p.qtde_itens = 8;\"\"\"\n",
    "\n",
    "sql2 = \"\"\"SELECT count(*) FROM pedido p\n",
    "WHERE p.qtde_itens < 5;\"\"\"\n",
    "\n",
    "sql3 = \"\"\"SELECT count(*) FROM pedido p\n",
    "WHERE p.qtde_itens BETWEEN 5 AND 20;\"\"\"\n",
    "\n",
    "sql4 = \"\"\"SELECT count(*) FROM pedido p\n",
    "WHERE p.qtde_itens IN (8, 15, 20, 45);\"\"\"\n",
    "\n",
    "db(sql1)\n",
    "db(sql2)\n",
    "db(sql3)\n",
    "db(sql4)\n",
    "\n",
    "db(\"SHOW PROFILES;\")"
   ]
  },
  {
   "cell_type": "markdown",
   "id": "5598bad1",
   "metadata": {},
   "source": [
    "Compare o tempo **antes** *versus* **depois** da criação do índice. Emocionante, não?!"
   ]
  },
  {
   "cell_type": "markdown",
   "id": "cb74a319",
   "metadata": {},
   "source": [
    "<div style=\"background-color: rgba(71, 85, 155, 0.2); padding: 10px; border-radius: 5px; border-left: 4px solid #475569; border: 1px solid rgba(71, 85, 105, 0.3);\">\n",
    "\n",
    "Sua resposta AQUI!\n",
    "\n",
    "</div>"
   ]
  },
  {
   "cell_type": "markdown",
   "id": "cb3a5986",
   "metadata": {},
   "source": [
    "## Particionamento\n",
    "\n",
    "Particionar é dividir as tabelas de um banco de dados em partes menores.\n",
    "\n",
    "Permite distribuir o banco de dados em vários nós ou HDs diferentes, aumentando o desempenho em situações de acesso concorrente intenso (que não é o nosso caso).\n",
    "\n",
    "Leia mais em https://dev.mysql.com/doc/refman/8.0/en/partitioning-pruning.html\n",
    "\n",
    "Veja um exemplo de particionamento:"
   ]
  },
  {
   "cell_type": "code",
   "execution_count": 37,
   "id": "aba32828",
   "metadata": {},
   "outputs": [
    {
     "name": "stdout",
     "output_type": "stream",
     "text": [
      "Executando query:\n",
      "(2021, Decimal('149938.637044'))\n",
      "(2022, Decimal('149919.921742'))\n",
      "Executando query:\n",
      "(39, 5.1065265, 'SELECT \\n    YEAR(p.data_criacao), AVG(valor_total) AS media\\nFROM\\n    pedido p\\nWHERE YEAR(p.data_criacao) > 2020\\nGROUP BY YEAR(p.data_criacao)\\nORDER BY YEAR(p.data_criacao) ASC')\n",
      "(40, 2.16611075, 'SELECT \\n    YEAR(p.data_criacao), AVG(valor_total) AS media\\nFROM\\n    pedido p\\nWHERE YEAR(p.data_criacao) > 2020\\nGROUP BY YEAR(p.data_criacao)\\nORDER BY YEAR(p.data_criacao) ASC')\n",
      "(41, 2.043404, 'SELECT \\n    YEAR(p.data_criacao), AVG(valor_total) AS media\\nFROM\\n    pedido p\\nWHERE YEAR(p.data_criacao) > 2020\\nGROUP BY YEAR(p.data_criacao)\\nORDER BY YEAR(p.data_criacao) ASC')\n",
      "(42, 2.0785165, 'SELECT \\n    YEAR(p.data_criacao), AVG(valor_total) AS media\\nFROM\\n    pedido p\\nWHERE YEAR(p.data_criacao) > 2020\\nGROUP BY YEAR(p.data_criacao)\\nORDER BY YEAR(p.data_criacao) ASC')\n"
     ]
    }
   ],
   "source": [
    "sql1 = \"\"\"\n",
    "SELECT \n",
    "    YEAR(p.data_criacao), AVG(valor_total) AS media\n",
    "FROM\n",
    "    pedido p\n",
    "WHERE YEAR(p.data_criacao) > 2020\n",
    "GROUP BY YEAR(p.data_criacao)\n",
    "ORDER BY YEAR(p.data_criacao) ASC;\"\"\"\n",
    "\n",
    "db(sql1)\n",
    "\n",
    "db(\"SHOW PROFILES;\")"
   ]
  },
  {
   "cell_type": "markdown",
   "id": "b0f46e9a",
   "metadata": {},
   "source": [
    "Para separar por ano, precisaremos fazer com que a `data_criacao` seja parte da chave primária."
   ]
  },
  {
   "cell_type": "code",
   "execution_count": 31,
   "id": "27f5ce56",
   "metadata": {},
   "outputs": [
    {
     "name": "stdout",
     "output_type": "stream",
     "text": [
      "Executando query:\n"
     ]
    }
   ],
   "source": [
    "sql = \"\"\"\n",
    "ALTER TABLE pedido\n",
    "DROP PRIMARY KEY;\"\"\"\n",
    "\n",
    "db(sql)"
   ]
  },
  {
   "cell_type": "code",
   "execution_count": 32,
   "id": "edc78c1e",
   "metadata": {},
   "outputs": [
    {
     "name": "stdout",
     "output_type": "stream",
     "text": [
      "Executando query:\n"
     ]
    }
   ],
   "source": [
    "sql = \"\"\"\n",
    "ALTER TABLE pedido\n",
    "ADD PRIMARY KEY (id_pedido, data_criacao);\"\"\"\n",
    "\n",
    "db(sql)"
   ]
  },
  {
   "cell_type": "markdown",
   "id": "f642de18",
   "metadata": {},
   "source": [
    "Então, separamos a tabela `pedido` em quatro partições"
   ]
  },
  {
   "cell_type": "code",
   "execution_count": 33,
   "id": "507ae1cc",
   "metadata": {},
   "outputs": [
    {
     "name": "stdout",
     "output_type": "stream",
     "text": [
      "Executando query:\n"
     ]
    }
   ],
   "source": [
    "sql = \"\"\"\n",
    "ALTER TABLE pedido\n",
    "PARTITION BY RANGE(YEAR(data_criacao))\n",
    "(\n",
    "    PARTITION p0 VALUES LESS THAN (2016),\n",
    "    PARTITION p1 VALUES LESS THAN (2018),\n",
    "    PARTITION p2 VALUES LESS THAN (2020),\n",
    "    PARTITION p3 VALUES LESS THAN MAXVALUE\n",
    ");\"\"\"\n",
    "\n",
    "db(sql)"
   ]
  },
  {
   "cell_type": "markdown",
   "id": "3aef2ab2",
   "metadata": {},
   "source": [
    "Executando a query novamente"
   ]
  },
  {
   "cell_type": "code",
   "execution_count": 38,
   "id": "04122813",
   "metadata": {},
   "outputs": [
    {
     "name": "stdout",
     "output_type": "stream",
     "text": [
      "Executando query:\n",
      "(2021, Decimal('149938.637044'))\n",
      "(2022, Decimal('149919.921742'))\n",
      "Executando query:\n",
      "(40, 2.16611075, 'SELECT \\n    YEAR(p.data_criacao), AVG(valor_total) AS media\\nFROM\\n    pedido p\\nWHERE YEAR(p.data_criacao) > 2020\\nGROUP BY YEAR(p.data_criacao)\\nORDER BY YEAR(p.data_criacao) ASC')\n",
      "(41, 2.043404, 'SELECT \\n    YEAR(p.data_criacao), AVG(valor_total) AS media\\nFROM\\n    pedido p\\nWHERE YEAR(p.data_criacao) > 2020\\nGROUP BY YEAR(p.data_criacao)\\nORDER BY YEAR(p.data_criacao) ASC')\n",
      "(42, 2.0785165, 'SELECT \\n    YEAR(p.data_criacao), AVG(valor_total) AS media\\nFROM\\n    pedido p\\nWHERE YEAR(p.data_criacao) > 2020\\nGROUP BY YEAR(p.data_criacao)\\nORDER BY YEAR(p.data_criacao) ASC')\n",
      "(43, 2.066346, 'SELECT \\n    YEAR(p.data_criacao), AVG(valor_total) AS media\\nFROM\\n    pedido p\\nWHERE YEAR(p.data_criacao) > 2020\\nGROUP BY YEAR(p.data_criacao)\\nORDER BY YEAR(p.data_criacao) ASC')\n"
     ]
    }
   ],
   "source": [
    "sql1 = \"\"\"\n",
    "SELECT \n",
    "    YEAR(p.data_criacao), AVG(valor_total) AS media\n",
    "FROM\n",
    "    pedido p\n",
    "WHERE YEAR(p.data_criacao) > 2020\n",
    "GROUP BY YEAR(p.data_criacao)\n",
    "ORDER BY YEAR(p.data_criacao) ASC;\"\"\"\n",
    "\n",
    "db(sql1)\n",
    "\n",
    "db(\"SHOW PROFILES;\")"
   ]
  },
  {
   "cell_type": "markdown",
   "id": "57da4a1e",
   "metadata": {},
   "source": [
    "Anote abaixo suas considerações sobre particionar tabelas!"
   ]
  },
  {
   "cell_type": "markdown",
   "id": "ad483263",
   "metadata": {},
   "source": [
    "<div style=\"background-color: rgba(71, 85, 155, 0.2); padding: 10px; border-radius: 5px; border-left: 4px solid #475569; border: 1px solid rgba(71, 85, 105, 0.3);\">\n",
    "\n",
    "Suas observações AQUI!\n",
    "\n",
    "</div>"
   ]
  },
  {
   "cell_type": "markdown",
   "id": "b2bbde2d",
   "metadata": {},
   "source": [
    "## Exercícios"
   ]
  },
  {
   "cell_type": "markdown",
   "id": "2ca109df",
   "metadata": {},
   "source": [
    "**Exercício 1**: Explique por que uma hash table é:\n",
    "\n",
    "**a)** Boa para buscas por valor exato?"
   ]
  },
  {
   "cell_type": "markdown",
   "id": "5e8f3e16",
   "metadata": {},
   "source": [
    "<div style=\"background-color: rgba(71, 85, 155, 0.2); padding: 10px; border-radius: 5px; border-left: 4px solid #475569; border: 1px solid rgba(71, 85, 105, 0.3);\">\n",
    "Uma hash table é excelente para buscas por valor exato porque ela usa uma função de hash para mapear cada chave diretamente para um índice na tabela. Isso permite acessar o valor em tempo constante médio (O(1)), sem precisar percorrer todos os elementos.\n",
    "\n",
    "</div>"
   ]
  },
  {
   "cell_type": "markdown",
   "id": "dc83eddb",
   "metadata": {},
   "source": [
    "**b)** Ruim para buscas por faixas de valor?\n",
    "\n",
    "**Dicas**:\n",
    "- Tente pensar por alguns minutos como as hash tables funcionam\n",
    "- Se travar, peça ajuda aos professores ou pergunte ao ChatGPT."
   ]
  },
  {
   "cell_type": "markdown",
   "id": "14a0e640",
   "metadata": {},
   "source": [
    "<div style=\"background-color: rgba(71, 85, 155, 0.2); padding: 10px; border-radius: 5px; border-left: 4px solid #475569; border: 1px solid rgba(71, 85, 105, 0.3);\">\n",
    "\n",
    "As hash tables são ruins para buscas por faixas de valor (por exemplo, “valores entre 10 e 20”), porque os elementos não são armazenados em ordem.\n",
    "A função de hash “embaralha” as chaves, então não há relação entre os índices e a ordem dos valores — seria necessário verificar todas as entradas da tabela, o que tem custo O(n).\n",
    "\n",
    "</div>"
   ]
  },
  {
   "cell_type": "markdown",
   "id": "d7f9f8f6",
   "metadata": {},
   "source": [
    "<a href=\"#gab_ex1\">Click para ver a resposta</a>"
   ]
  },
  {
   "cell_type": "markdown",
   "id": "318202fc",
   "metadata": {},
   "source": [
    "**Exercício 2**: Por que os índices de bancos de dados relacionais utilizam `B-tree` e suas variantes ao invés de uma árvore binária balanceada?"
   ]
  },
  {
   "cell_type": "markdown",
   "id": "fd6a9bbe",
   "metadata": {},
   "source": [
    "<div style=\"background-color: rgba(71, 85, 155, 0.2); padding: 10px; border-radius: 5px; border-left: 4px solid #475569; border: 1px solid rgba(71, 85, 105, 0.3);\">\n",
    "\n",
    "Os bancos de dados usam B-trees porque elas reduzem o número de acessos a disco, mantendo os dados ordenados e balanceados, o que permite buscas rápidas e eficientes por faixas de valores.\n",
    "Árvores binárias balanceadas são menos eficientes nesse contexto, pois exigem muitos acessos a disco e não são otimizadas para intervalos.\n",
    "\n",
    "</div>"
   ]
  },
  {
   "cell_type": "markdown",
   "id": "371c4e9e",
   "metadata": {},
   "source": [
    "**Exercício 3**: O professor demonstrou a construção de uma `B-tree`. Pesquise o que são as `B+-trees` e responda:\n",
    "\n",
    "**Obs:**\n",
    "- O `+` representa um **plus**. Já o `-` é só um traço separador!\n",
    "- Você pode simular a versão **plus** aqui https://www.cs.usfca.edu/~galles/visualization/BPlusTree.html\n",
    "\n",
    "**a)** Qual a diferença entre a `B-tree` e a versão plus?!"
   ]
  },
  {
   "cell_type": "markdown",
   "id": "a45f3ad9",
   "metadata": {},
   "source": [
    "<div style=\"background-color: rgba(71, 85, 155, 0.2); padding: 10px; border-radius: 5px; border-left: 4px solid #475569; border: 1px solid rgba(71, 85, 105, 0.3);\">\n",
    "\n",
    "A B-tree guarda dados (ponteiros) em todos os nós, enquanto a B+ tree guarda os dados somente nas folhas e mantém as folhas ligadas entre si, o que torna mais fácil buscar faixas de valores.\n",
    "\n",
    "</div>"
   ]
  },
  {
   "cell_type": "markdown",
   "id": "22d6d74c",
   "metadata": {},
   "source": [
    "**b)** O MySQL utiliza `B-tree` ou `B+-trees`?"
   ]
  },
  {
   "cell_type": "markdown",
   "id": "7dbfa841",
   "metadata": {},
   "source": [
    "<div style=\"background-color: rgba(71, 85, 155, 0.2); padding: 10px; border-radius: 5px; border-left: 4px solid #475569; border: 1px solid rgba(71, 85, 105, 0.3);\">\n",
    "\n",
    "O MySQL utiliza B+ trees nos seus índices (como no InnoDB e MyISAM), pois elas são mais eficientes para buscas por valor exato e por intervalos.\n",
    "\n",
    "</div>"
   ]
  },
  {
   "cell_type": "markdown",
   "id": "a4b4f791",
   "metadata": {},
   "source": [
    "**Exercício 4**: Explique por que uma B-tree é:\n",
    "\n",
    "**a)** Razoável para buscas por valor exato?"
   ]
  },
  {
   "cell_type": "markdown",
   "id": "eebe902d",
   "metadata": {},
   "source": [
    "<div style=\"background-color: rgba(71, 85, 155, 0.2); padding: 10px; border-radius: 5px; border-left: 4px solid #475569; border: 1px solid rgba(71, 85, 105, 0.3);\">\n",
    "\n",
    "Porque a B-tree é balanceada — a altura da árvore é pequena — então o banco consegue chegar rapidamente ao valor exato em tempo logarítmico (O(log n)), sem percorrer todos os dados.\n",
    "\n",
    "</div>"
   ]
  },
  {
   "cell_type": "markdown",
   "id": "8c2bbdf7",
   "metadata": {},
   "source": [
    "**b)** Boa para buscas por faixa de valor?"
   ]
  },
  {
   "cell_type": "markdown",
   "id": "dec1fea1",
   "metadata": {},
   "source": [
    "<div style=\"background-color: rgba(71, 85, 155, 0.2); padding: 10px; border-radius: 5px; border-left: 4px solid #475569; border: 1px solid rgba(71, 85, 105, 0.3);\">\n",
    "\n",
    "A B-tree (e especialmente a B+ tree) é boa para buscas por faixa de valor porque as chaves ficam ordenadas, permitindo percorrer os nós ou folhas em sequência sem precisar recomeçar a busca a cada valor.\n",
    "\n",
    "</div>"
   ]
  },
  {
   "cell_type": "markdown",
   "id": "aca6cf3f",
   "metadata": {},
   "source": [
    "**Exercício 5**: Pense em situações onde o **particionamento vertical** é benéfico, e onde é problemático."
   ]
  },
  {
   "cell_type": "markdown",
   "id": "13d5742c",
   "metadata": {},
   "source": [
    "<div style=\"background-color: rgba(71, 85, 155, 0.2); padding: 10px; border-radius: 5px; border-left: 4px solid #475569; border: 1px solid rgba(71, 85, 105, 0.3);\">\n",
    "\n",
    "🟢 Benéfico quando:\n",
    "\n",
    "Há muitas colunas na tabela e diferentes consultas usam conjuntos distintos de colunas.\n",
    "\n",
    "Exemplo: separar colunas raramente acessadas (como “foto” ou “descrição longa”) para otimizar consultas que só precisam de campos básicos.\n",
    "\n",
    "🔴 Problemático quando:\n",
    "\n",
    "As consultas precisam de muitas colunas ao mesmo tempo, pois o sistema precisa juntar várias partições (joins), o que aumenta o custo de leitura.\n",
    "\n",
    "</div>"
   ]
  },
  {
   "cell_type": "markdown",
   "id": "2200ed4a",
   "metadata": {},
   "source": [
    "**Exercício 6**: Pense em situações onde o **particionamento horizontal** é benéfico, e onde é problemático."
   ]
  },
  {
   "cell_type": "markdown",
   "id": "4309fed1",
   "metadata": {},
   "source": [
    "<div style=\"background-color: rgba(71, 85, 155, 0.2); padding: 10px; border-radius: 5px; border-left: 4px solid #475569; border: 1px solid rgba(71, 85, 105, 0.3);\">\n",
    "\n",
    "🟢 Benéfico quando:\n",
    "\n",
    "A tabela tem muitos registros e pode ser dividida por intervalos de valores (por exemplo, por região ou por data).\n",
    "\n",
    "Isso melhora o desempenho e facilita o balanceamento de carga em múltiplos servidores.\n",
    "\n",
    "🔴 Problemático quando:\n",
    "\n",
    "É necessário consultar dados de várias partições ao mesmo tempo, pois o banco precisa unir resultados de vários lugares, aumentando a latência.\n",
    "\n",
    "</div>"
   ]
  },
  {
   "cell_type": "markdown",
   "id": "f0a05e40",
   "metadata": {},
   "source": [
    "## Conexão\n",
    "\n",
    "Vamos fechar a conexão e finalizamos por hoje!"
   ]
  },
  {
   "cell_type": "code",
   "execution_count": 39,
   "id": "4cf4f676",
   "metadata": {},
   "outputs": [],
   "source": [
    "connection.close()"
   ]
  },
  {
   "cell_type": "markdown",
   "id": "57c158ae",
   "metadata": {},
   "source": [
    "## Referências\n",
    "- OLIVEIRA, C. H. P, SQL: Curso Prático, Novatec, 2002 CAP 4\n",
    "- SILBERSCHATZ, A.; KORTH, H. F.; SUDARSHAN, S. DATABASE SYSTEM CONCEPTS, SEVENTH EDITION CAP 4.6\n",
    "- https://jasimabasheer.com/posts/btrees"
   ]
  },
  {
   "cell_type": "markdown",
   "id": "1ecd01b0",
   "metadata": {},
   "source": [
    "## Gabarito"
   ]
  },
  {
   "cell_type": "markdown",
   "id": "db69c015",
   "metadata": {},
   "source": [
    "**<div id=\"gab_ex1\">Exercício 1</div>**\n",
    "\n",
    "\n",
    "<style>\n",
    ".box {\n",
    "  padding: 10px;\n",
    "  border-radius: 5px;\n",
    "  border-left: 4px solid var(--accent);\n",
    "  border: 1px solid var(--border);\n",
    "  background-color: var(--bg);\n",
    "}\n",
    "\n",
    "/* Tema Claro */\n",
    "@media (prefers-color-scheme: light) {\n",
    "  .box-error {\n",
    "    --accent: #ef4444; /* Red-500 */\n",
    "    --border: rgba(239, 68, 68, 0.4);\n",
    "    --bg: rgba(239, 68, 68, 0.15);\n",
    "  }\n",
    "\n",
    "  .box-warn {\n",
    "    --accent: #f59e0b; /* Amber-500 */\n",
    "    --border: rgba(245, 158, 11, 0.4);\n",
    "    --bg: rgba(245, 158, 11, 0.15);\n",
    "  }\n",
    "}\n",
    "\n",
    "/* Tema Escuro */\n",
    "@media (prefers-color-scheme: dark) {\n",
    "  .box-error {\n",
    "    --accent: #f87171; /* Red-400 */\n",
    "    --border: rgba(248, 113, 113, 0.4);\n",
    "    --bg: rgba(248, 113, 113, 0.2);\n",
    "  }\n",
    "\n",
    "  .box-warn {\n",
    "    --accent: #fbbf24; /* Amber-400 (mais claro no dark) */\n",
    "    --border: rgba(251, 191, 36, 0.4);\n",
    "    --bg: rgba(251, 191, 36, 0.2);\n",
    "  }\n",
    "}\n",
    "</style>\n",
    "\n",
    "<div class=\"box box-error\">\n",
    "\n",
    "**a)** Complexide de busca O(1) 😍\n",
    "\n",
    "**b)** Não mantém relação de ordem 😭\n",
    "    \n",
    "</div>"
   ]
  }
 ],
 "metadata": {
  "kernelspec": {
   "display_name": "venv",
   "language": "python",
   "name": "python3"
  },
  "language_info": {
   "codemirror_mode": {
    "name": "ipython",
    "version": 3
   },
   "file_extension": ".py",
   "mimetype": "text/x-python",
   "name": "python",
   "nbconvert_exporter": "python",
   "pygments_lexer": "ipython3",
   "version": "3.12.10"
  }
 },
 "nbformat": 4,
 "nbformat_minor": 5
}
