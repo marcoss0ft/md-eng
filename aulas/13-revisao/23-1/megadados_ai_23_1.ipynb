{
 "cells": [
  {
   "cell_type": "markdown",
   "id": "f62ded59",
   "metadata": {},
   "source": [
    "# AI MEGADADOS 23-1"
   ]
  },
  {
   "cell_type": "markdown",
   "id": "37555db8",
   "metadata": {},
   "source": [
    "**NOME**: Marcos Augusto Rossi Paulino Costa"
   ]
  },
  {
   "cell_type": "markdown",
   "id": "dcd0397c",
   "metadata": {},
   "source": [
    "## Parte 1 - CarTracking!\n",
    "\n",
    "Na parte 1 da prova de MEGADADOS, iremos trabalhar com a base de dados sintética **CarTracking**.\n",
    "\n",
    "### Insper autograding!\n",
    "\n",
    "Para receber feedback dos exercício na parte 1, iremos utilizar o `insper autograding`. Se não fez este passo, abra o notebook disponível na aula 09.\n",
    "\n",
    "**Sugestão**: para aproveitar o `.env`, crie uma pasta para a prova no mesmo local onde costuma deixar as pastas das **aulas**!\n",
    "\n",
    "### Instalação da base\n",
    "\n",
    "Execute os scripts `script_001.sql` e `script_002.sql` no MySQL Workbench. Estes scripts criam uma base **cartracking** e inserem alguns dados de exemplo para resolução da prova.\n",
    "\n",
    "A base pode ser representada pelo seguinte diagrama do model orelacional (diagrama ER):\n",
    "\n",
    "<img src=\"img/deer_cartracing.png\">"
   ]
  },
  {
   "cell_type": "markdown",
   "id": "3dfa114e",
   "metadata": {},
   "source": [
    "A base da prova simula um cenário de **rastreamento de veículos**. Nela, estão cadastrados **automóveis** de **clientes**. Os automóveis podem ter múltiplos **rastreadores** instalados, mas cada rastreador está associado a apenas um automóvel.\n",
    "\n",
    "Os rastreadores irão gerar **eventos** de rastreamento, contendo informações de geolocalização e temperatura em determinados momentos do tempo."
   ]
  },
  {
   "cell_type": "markdown",
   "id": "feb97635",
   "metadata": {},
   "source": [
    "## Como resolver os exercícios?\n",
    "\n",
    "Crie a base da prova em sua máquina (passo anterior). Utilize o MySQL Workbench ou o conector para testar as queries. Quando estiver bastante certo de que a resposta está correta, faça a submissão para o servidor.\n",
    "\n",
    "## Import das bibliotecas\n",
    "\n",
    "Vamos realizar o import das bibliotecas."
   ]
  },
  {
   "cell_type": "code",
   "execution_count": 2,
   "id": "b2f1597a",
   "metadata": {},
   "outputs": [],
   "source": [
    "import mysql.connector\n",
    "from functools import partial\n",
    "import os\n",
    "import insperautograder.jupyter as ia\n",
    "from dotenv import load_dotenv"
   ]
  },
  {
   "cell_type": "markdown",
   "id": "33eefa0d",
   "metadata": {},
   "source": [
    "E vamos criar nosso HELPER de conexão com o banco! Perceba que, uma vez configurado o `.env` não precisaremos mais informar usuários, senhas e URLs!"
   ]
  },
  {
   "cell_type": "code",
   "execution_count": 3,
   "id": "f5147533",
   "metadata": {},
   "outputs": [],
   "source": [
    "load_dotenv(override=True)\n",
    "\n",
    "def get_connection_helper():\n",
    "\n",
    "    def run_db_query(connection, query, args=None):\n",
    "        with connection.cursor() as cursor:\n",
    "            print(\"Executando query:\")\n",
    "            cursor.execute(query, args)\n",
    "            for result in cursor:\n",
    "                print(result)\n",
    "\n",
    "    connection = mysql.connector.connect(\n",
    "        host=os.getenv(\"MD_DB_SERVER\"),\n",
    "        user=os.getenv(\"MD_DB_USERNAME\"),\n",
    "        password=os.getenv(\"MD_DB_PASSWORD\"),\n",
    "        database=\"cartracking\",\n",
    "    )\n",
    "    return connection, partial(run_db_query, connection)\n",
    "\n",
    "\n",
    "connection, db = get_connection_helper()"
   ]
  },
  {
   "cell_type": "markdown",
   "id": "86e481dc",
   "metadata": {},
   "source": [
    "### Notas\n",
    "\n",
    "Para conferir a nota da correção automática da prova, utilize:"
   ]
  },
  {
   "cell_type": "code",
   "execution_count": 3,
   "id": "9d0c9a82",
   "metadata": {},
   "outputs": [
    {
     "data": {
      "text/markdown": [
       "|    | Atividade   | Exercício   |   Peso |   Nota |   Nota Sem Atraso |   Nota Com Atraso |\n",
       "|---:|:------------|:------------|-------:|-------:|------------------:|------------------:|\n",
       "|  0 | ai_md_23_1  | ex01        |      1 |     10 |                10 |                 0 |\n",
       "|  1 | ai_md_23_1  | ex02        |      1 |     10 |                10 |                 0 |\n",
       "|  2 | ai_md_23_1  | ex03        |      1 |     10 |                10 |                 0 |\n",
       "|  3 | ai_md_23_1  | ex04        |      1 |     10 |                10 |                 0 |\n",
       "|  4 | ai_md_23_1  | ex05        |      1 |     10 |                10 |                 0 |\n",
       "|  5 | ai_md_23_1  | ex06        |      1 |     10 |                10 |                 0 |"
      ],
      "text/plain": [
       "<IPython.core.display.Markdown object>"
      ]
     },
     "metadata": {},
     "output_type": "display_data"
    }
   ],
   "source": [
    "ia.grades(task=\"ai_md_23_1\")"
   ]
  },
  {
   "cell_type": "code",
   "execution_count": 4,
   "id": "55d92296",
   "metadata": {},
   "outputs": [
    {
     "data": {
      "text/markdown": [
       "|    | Tarefa     |   Nota | Conta como ATV?   |\n",
       "|---:|:-----------|-------:|:------------------|\n",
       "|  0 | ai_md_23_1 |     10 | Sim               |"
      ],
      "text/plain": [
       "<IPython.core.display.Markdown object>"
      ]
     },
     "metadata": {},
     "output_type": "display_data"
    }
   ],
   "source": [
    "ia.grades(by=\"TASK\", task=\"ai_md_23_1\")"
   ]
  },
  {
   "cell_type": "markdown",
   "id": "a1c915a9",
   "metadata": {},
   "source": [
    "**Obs**: Esta parte da avaliação vale **6 pontos** na nota da prova. A nota será pela correção automática do servidor.\n",
    "\n",
    "Boas práticas que dem ser seguidas:\n",
    "\n",
    "- As queries devem estar formatadas:\n",
    "    - Padrão de maiúsculas e minúsculas\n",
    "    - Tabulações e quebras de linhas\n",
    "- É adequado utilizar *alias* nas tabelas, especialmente em queries com múltiplas tabelas.\n",
    "    \n",
    "A nota retornada pelo servidor estará no intervalo `0.0` a `10.0` e será multiplicada por `0.6` para compor a nota.\n",
    "\n",
    "Ainda, considere que os testes não são exaustivos. Sua solução deve funcionar para qualquer conjunto de dados no *schema* da prova. Tentativas de burlar os testes serão consideradas como uma não aprendizagem dos objetivos da matéria."
   ]
  },
  {
   "cell_type": "markdown",
   "id": "010383c1",
   "metadata": {},
   "source": [
    "**Exercício 1**: Crie uma query que retorne a quantidade de clientes pessoa jurídica cadastrados na base.\n",
    "\n",
    "**Obs**: considere que um cliente pessoa jurídica é um cliente com cnpj preenchido!"
   ]
  },
  {
   "cell_type": "code",
   "execution_count": 6,
   "id": "6ac40e23",
   "metadata": {},
   "outputs": [
    {
     "name": "stdout",
     "output_type": "stream",
     "text": [
      "Executando query:\n",
      "(3,)\n"
     ]
    }
   ],
   "source": [
    "sql_ex01 = \"\"\"\n",
    "SELECT\n",
    "    COUNT(idcliente)\n",
    "FROM\n",
    "    cliente\n",
    "WHERE\n",
    "    cnpj IS NOT NULL\n",
    "\"\"\"\n",
    "\n",
    "db(sql_ex01)"
   ]
  },
  {
   "cell_type": "markdown",
   "id": "9db4baba",
   "metadata": {},
   "source": [
    "Após testar localmente e considerar sua solução correta, faça o envio clicando no botão abaixo!"
   ]
  },
  {
   "cell_type": "code",
   "execution_count": 7,
   "id": "dba353fb",
   "metadata": {},
   "outputs": [
    {
     "data": {
      "application/vnd.jupyter.widget-view+json": {
       "model_id": "e0948e0904094b4f9e68ab78321c7406",
       "version_major": 2,
       "version_minor": 0
      },
      "text/plain": [
       "interactive(children=(Button(description='Enviar ex01', style=ButtonStyle()), Output()), _dom_classes=('widget…"
      ]
     },
     "metadata": {},
     "output_type": "display_data"
    }
   ],
   "source": [
    "ia.sender(answer=\"sql_ex01\", task=\"ai_md_23_1\", question=\"ex01\", answer_type=\"pyvar\")"
   ]
  },
  {
   "cell_type": "markdown",
   "id": "c167b70e",
   "metadata": {},
   "source": [
    "**Exercício 2**: Crie uma query que retorne, **sem repetição**, todos os `modelo` e `marca` dos `automovel` cadastrados. Retorne ordenado de forma crescente pelo `modelo`."
   ]
  },
  {
   "cell_type": "code",
   "execution_count": 10,
   "id": "0203756a",
   "metadata": {},
   "outputs": [
    {
     "name": "stdout",
     "output_type": "stream",
     "text": [
      "Executando query:\n",
      "('Civic', 'Honda')\n",
      "('Corolla', 'Toyota')\n",
      "('Jetta', 'Volkswagen')\n",
      "('Kicks', 'Nissan')\n",
      "('RAV4', 'Toyota')\n",
      "('Sentra', 'Nissan')\n"
     ]
    }
   ],
   "source": [
    "sql_ex02 = \"\"\"\n",
    "SELECT DISTINCT\n",
    "    modelo, marca\n",
    "FROM\n",
    "    automovel\n",
    "    INNER JOIN modelo USING(idmodelo)\n",
    "    INNER JOIN marca USING(idmarca)\n",
    "ORDER BY\n",
    "    modelo ASC\n",
    "\"\"\"\n",
    "\n",
    "db(sql_ex02)"
   ]
  },
  {
   "cell_type": "markdown",
   "id": "ed653f31",
   "metadata": {},
   "source": [
    "Após testar localmente e considerar sua solução correta, faça o envio clicando no botão abaixo!"
   ]
  },
  {
   "cell_type": "code",
   "execution_count": 11,
   "id": "b38f883b",
   "metadata": {},
   "outputs": [
    {
     "data": {
      "application/vnd.jupyter.widget-view+json": {
       "model_id": "db7591394d964888aa7d9f709ab75644",
       "version_major": 2,
       "version_minor": 0
      },
      "text/plain": [
       "interactive(children=(Button(description='Enviar ex02', style=ButtonStyle()), Output()), _dom_classes=('widget…"
      ]
     },
     "metadata": {},
     "output_type": "display_data"
    }
   ],
   "source": [
    "ia.sender(answer=\"sql_ex02\", task=\"ai_md_23_1\", question=\"ex02\", answer_type=\"pyvar\")"
   ]
  },
  {
   "cell_type": "markdown",
   "id": "783982d7",
   "metadata": {},
   "source": [
    "**Exercício 3**: Crie uma query que retorne, o `nome` do `cliente` e a **quantidade** de automóveis que o cliente possui cadastrado na base.\n",
    "\n",
    "\n",
    "**Obs**:\n",
    "- Os clientes com mais automóveis cadastrados devem aparecer primeiro.\n",
    "- Clientes sem automóveis cadastrados não devem ser retornados"
   ]
  },
  {
   "cell_type": "code",
   "execution_count": 12,
   "id": "7abc57c5",
   "metadata": {},
   "outputs": [
    {
     "name": "stdout",
     "output_type": "stream",
     "text": [
      "Executando query:\n",
      "('Agromil', 4)\n",
      "('Universo dos Transportes de Luxo', 3)\n",
      "('Ana Maria', 1)\n"
     ]
    }
   ],
   "source": [
    "sql_ex03 = \"\"\"\n",
    "SELECT \n",
    "    nome,\n",
    "    COUNT(idautomovel) AS quant_automoveis\n",
    "FROM\n",
    "    cliente\n",
    "    INNER JOIN automovel USING(idcliente)\n",
    "GROUP BY\n",
    "    idcliente\n",
    "ORDER BY\n",
    "    quant_automoveis DESC\n",
    "\"\"\"\n",
    "\n",
    "db(sql_ex03)"
   ]
  },
  {
   "cell_type": "markdown",
   "id": "f1cbdd5d",
   "metadata": {},
   "source": [
    "Após testar localmente e considerar sua solução correta, faça o envio clicando no botão abaixo!"
   ]
  },
  {
   "cell_type": "code",
   "execution_count": 13,
   "id": "226f8184",
   "metadata": {},
   "outputs": [
    {
     "data": {
      "application/vnd.jupyter.widget-view+json": {
       "model_id": "81b05c56044145c7b15d3d65a7cac253",
       "version_major": 2,
       "version_minor": 0
      },
      "text/plain": [
       "interactive(children=(Button(description='Enviar ex03', style=ButtonStyle()), Output()), _dom_classes=('widget…"
      ]
     },
     "metadata": {},
     "output_type": "display_data"
    }
   ],
   "source": [
    "ia.sender(answer=\"sql_ex03\", task=\"ai_md_23_1\", question=\"ex03\", answer_type=\"pyvar\")"
   ]
  },
  {
   "cell_type": "markdown",
   "id": "d26b32cc",
   "metadata": {},
   "source": [
    "**Exercício 4**: Crie uma query que retorne, nesta ordem, o `idautomovel`, `ano`, `idcliente`, `idmodelo` e `travado` dos automóveis que **não possuem nenhum rastreador** vinculado a eles.\n",
    "\n",
    "\n",
    "**Obs**: ordene de forma crescente pelo `idautomovel`."
   ]
  },
  {
   "cell_type": "code",
   "execution_count": 14,
   "id": "468eef5d",
   "metadata": {},
   "outputs": [
    {
     "name": "stdout",
     "output_type": "stream",
     "text": [
      "Executando query:\n",
      "(4, 2018, 5, 7, 1)\n",
      "(5, 1999, 1, 8, 0)\n"
     ]
    }
   ],
   "source": [
    "sql_ex04 = \"\"\"\n",
    "SELECT\n",
    "    idautomovel,\n",
    "    ano,\n",
    "    idcliente,\n",
    "    idmodelo,\n",
    "    travado\n",
    "FROM\n",
    "    automovel\n",
    "    LEFT OUTER JOIN rastreador USING(idautomovel)\n",
    "WHERE\n",
    "    idrastreador IS NULL\n",
    "ORDER BY\n",
    "    idautomovel ASC\n",
    "\"\"\"\n",
    "\n",
    "db(sql_ex04)"
   ]
  },
  {
   "cell_type": "markdown",
   "id": "90450f69",
   "metadata": {},
   "source": [
    "Após testar localmente e considerar sua solução correta, faça o envio clicando no botão abaixo!"
   ]
  },
  {
   "cell_type": "code",
   "execution_count": 15,
   "id": "248d61fb",
   "metadata": {},
   "outputs": [
    {
     "data": {
      "application/vnd.jupyter.widget-view+json": {
       "model_id": "59a8a9dc51514e5c837cd041567a5825",
       "version_major": 2,
       "version_minor": 0
      },
      "text/plain": [
       "interactive(children=(Button(description='Enviar ex04', style=ButtonStyle()), Output()), _dom_classes=('widget…"
      ]
     },
     "metadata": {},
     "output_type": "display_data"
    }
   ],
   "source": [
    "ia.sender(answer=\"sql_ex04\", task=\"ai_md_23_1\", question=\"ex04\", answer_type=\"pyvar\")"
   ]
  },
  {
   "cell_type": "markdown",
   "id": "f1aea00a",
   "metadata": {},
   "source": [
    "**Exercício 5**: Considerando apenas os rastreadores **ativos**, crie uma query que retorne o `nome` do cliente, o `modelo` do automóvel rastreado, a temperatura **máxima** e **média** do motor registradas nos eventos do automóvel.\n",
    "\n",
    "**Obs**:\n",
    "- Retorne ordenado pela temperatura máxima, de forma decrescente\n",
    "- Retorne apenas os registros com temperatura máxima do motor acima de `85`\n",
    "- A coluna de temperatura máxima deve se chamar `max_temp_motor`\n",
    "- A coluna de temperatura média deve se chamar `avg_temp_motor`"
   ]
  },
  {
   "cell_type": "code",
   "execution_count": 17,
   "id": "f89a659b",
   "metadata": {
    "scrolled": true
   },
   "outputs": [
    {
     "name": "stdout",
     "output_type": "stream",
     "text": [
      "Executando query:\n",
      "('Universo dos Transportes de Luxo', 'Corolla', Decimal('90.20'), Decimal('88.540000'))\n",
      "('Universo dos Transportes de Luxo', 'Sentra', Decimal('89.92'), Decimal('62.015000'))\n",
      "('Agromil', 'Jetta', Decimal('89.49'), Decimal('87.097500'))\n"
     ]
    }
   ],
   "source": [
    "sql_ex05 = \"\"\"\n",
    "SELECT nome, modelo, MAX(temperatura_motor) AS max_temp_motor, AVG(temperatura_motor) AS avg_temp_motor\n",
    "FROM\n",
    "    cliente\n",
    "    INNER JOIN automovel USING(idcliente)\n",
    "    INNER JOIN modelo USING(idmodelo)\n",
    "    INNER JOIN rastreador USING(idautomovel)\n",
    "    INNER JOIN evento USING(idrastreador)\n",
    "WHERE\n",
    "    ativo = 1\n",
    "GROUP BY\n",
    "    idautomovel\n",
    "HAVING\n",
    "    max_temp_motor > 85\n",
    "ORDER BY\n",
    "    max_temp_motor DESC\n",
    "\"\"\"\n",
    "\n",
    "db(sql_ex05)"
   ]
  },
  {
   "cell_type": "markdown",
   "id": "f72e42f8",
   "metadata": {},
   "source": [
    "Após testar localmente e considerar sua solução correta, faça o envio clicando no botão abaixo!"
   ]
  },
  {
   "cell_type": "code",
   "execution_count": 18,
   "id": "2aa73426",
   "metadata": {},
   "outputs": [
    {
     "data": {
      "application/vnd.jupyter.widget-view+json": {
       "model_id": "b9b0982fd4644219a240b4045a24f19f",
       "version_major": 2,
       "version_minor": 0
      },
      "text/plain": [
       "interactive(children=(Button(description='Enviar ex05', style=ButtonStyle()), Output()), _dom_classes=('widget…"
      ]
     },
     "metadata": {},
     "output_type": "display_data"
    }
   ],
   "source": [
    "ia.sender(answer=\"sql_ex05\", task=\"ai_md_23_1\", question=\"ex05\", answer_type=\"pyvar\")"
   ]
  },
  {
   "cell_type": "markdown",
   "id": "6f01f5b4",
   "metadata": {},
   "source": [
    "**Exercício 6**: Crie uma tabela temporária `tmp_cliente_eventos` contendo o `nome`, `cpf`, `cnpj` do cliente, além da quantidade de **eventos** registrados na tabela `evento` para cada cliente.\n",
    "\n",
    "Requisitos:\n",
    "- Retorne ordenado pelo `nome` de forma crescente\n",
    "- A coluna de contagem deve se chamar `qtde_eventos`\n",
    "- Clientes sem eventos devem ter o valor `0` em `qtde_eventos`\n",
    "- Nos clientes com o `cpf` ou `cnpj` nulos, retorne uma string `'NAO_INFORMADO'`"
   ]
  },
  {
   "cell_type": "code",
   "execution_count": 25,
   "id": "b1b02950",
   "metadata": {},
   "outputs": [
    {
     "name": "stdout",
     "output_type": "stream",
     "text": [
      "Executando query:\n"
     ]
    }
   ],
   "source": [
    "db(\"\"\"DROP TABLE tmp_cliente_eventos\"\"\")"
   ]
  },
  {
   "cell_type": "code",
   "execution_count": 26,
   "id": "8fffc6e7",
   "metadata": {
    "scrolled": true
   },
   "outputs": [
    {
     "name": "stdout",
     "output_type": "stream",
     "text": [
      "Executando query:\n"
     ]
    }
   ],
   "source": [
    "sql_ex06 = \"\"\"\n",
    "CREATE TEMPORARY TABLE tmp_cliente_eventos AS\n",
    "    SELECT nome, COALESCE(cpf, 'NAO_INFORMADO') AS cpf, COALESCE(cnpj, 'NAO_INFORMADO') AS cnpj, COALESCE(COUNT(idevento), 0) AS qtde_eventos\n",
    "    FROM\n",
    "        cliente\n",
    "        LEFT OUTER JOIN automovel USING(idcliente)\n",
    "        LEFT OUTER JOIN rastreador USING(idautomovel)\n",
    "        LEFT OUTER JOIN evento USING(idrastreador)\n",
    "    GROUP BY\n",
    "        idcliente\n",
    "    ORDER BY\n",
    "        nome ASC\n",
    "    \n",
    "\"\"\"\n",
    "\n",
    "db(sql_ex06)"
   ]
  },
  {
   "cell_type": "markdown",
   "id": "9c8ff357",
   "metadata": {},
   "source": [
    "Após testar localmente e considerar sua solução correta, faça o envio clicando no botão abaixo!"
   ]
  },
  {
   "cell_type": "code",
   "execution_count": 27,
   "id": "1896fe20",
   "metadata": {},
   "outputs": [
    {
     "data": {
      "application/vnd.jupyter.widget-view+json": {
       "model_id": "2fa5ae279e864a7388c8e829b34f6ca1",
       "version_major": 2,
       "version_minor": 0
      },
      "text/plain": [
       "interactive(children=(Button(description='Enviar ex06', style=ButtonStyle()), Output()), _dom_classes=('widget…"
      ]
     },
     "metadata": {},
     "output_type": "display_data"
    }
   ],
   "source": [
    "ia.sender(answer=\"sql_ex06\", task=\"ai_md_23_1\", question=\"ex06\", answer_type=\"pyvar\")"
   ]
  },
  {
   "cell_type": "markdown",
   "id": "00a11a57",
   "metadata": {},
   "source": [
    "### Conferindo as notas!"
   ]
  },
  {
   "cell_type": "code",
   "execution_count": 28,
   "id": "8e3dd2f7",
   "metadata": {},
   "outputs": [
    {
     "data": {
      "text/markdown": [
       "|    | Atividade   | Exercício   |   Peso |   Nota |   Nota Sem Atraso |   Nota Com Atraso |\n",
       "|---:|:------------|:------------|-------:|-------:|------------------:|------------------:|\n",
       "|  0 | ai_md_23_1  | ex01        |      1 |     10 |                10 |                 0 |\n",
       "|  1 | ai_md_23_1  | ex02        |      1 |     10 |                10 |                 0 |\n",
       "|  2 | ai_md_23_1  | ex03        |      1 |     10 |                10 |                 0 |\n",
       "|  3 | ai_md_23_1  | ex04        |      1 |     10 |                10 |                 0 |\n",
       "|  4 | ai_md_23_1  | ex05        |      1 |     10 |                10 |                 0 |\n",
       "|  5 | ai_md_23_1  | ex06        |      1 |     10 |                10 |                 0 |"
      ],
      "text/plain": [
       "<IPython.core.display.Markdown object>"
      ]
     },
     "metadata": {},
     "output_type": "display_data"
    }
   ],
   "source": [
    "ia.grades(task=\"ai_md_23_1\")"
   ]
  },
  {
   "cell_type": "markdown",
   "id": "fdb3ca75",
   "metadata": {},
   "source": [
    "## Parte 2 - Confraternizar!\n",
    "\n",
    "Você foi procurado por um grupo de alunos do Insper para uma consultoria na área de dados! Eles reclamaram que precisam realizar diversas confraternizações entre os estudantes do Insper, sendo difícil gerir todos os detalhes relativos aos eventos.\n",
    "\n",
    "Ainda, é desejo dos organizadores que toda a gestão seja digital, sem mais ingressos no papel!\n",
    "\n",
    "Em conversas com o cliente, você levantou as seguintes informações sobre o domínio de negócios:\n",
    "- As confraternizações são agendadas para acontecer em determinada data.\n",
    "- As confraternizações sempre possuem um tipo (calourada, pizzada, cine-cultural, etc.). Então, uma confraternização sempre é uma nova realização (ou oferecimento) de um tipo de evento.\n",
    "- Cada confraternização pode ser organizada por diversos alunos. É preciso manter um cadastro dos organizadores, indicando o cargo ocupado em cada festa (quando o aluno fizer parte da organização).\n",
    "- Os ingressos apenas podem ser adquiridos por alunos. O aluno pode comprar quantos ingresso quiser (para ele e/ou convidados). Quando o aluno compra um ingresso de determinada festa, ele tem a opção de indicar o nome do convidado que irá utilizar o ingresso.\n",
    "\n",
    "Utilize estas informações para propor soluções adequadas para os próximos exercícios.\n",
    "\n",
    "**Obs**: Esta parte da avaliação vale **4 pontos** na nota da prova:\n",
    "- 1.50 para o exercício 7\n",
    "- 0.75 para o exercício 8\n",
    "- 0.75 para o exercício 9\n",
    "- 1.00 para o exercício 10"
   ]
  },
  {
   "cell_type": "markdown",
   "id": "4f09a3aa",
   "metadata": {},
   "source": [
    "**Exercício 7**: Desenhe o diagrama do modelo relacional deste problema. Não esqueça de indicar claramente os tipos, chaves primárias, chaves estrangeiras, e a cardinalidade dos relacionamentos.\n",
    "\n",
    "**Obs:** Salve a imagem do diagrama na pasta `img`. Edite na resposta o caminho para a imagem!"
   ]
  },
  {
   "cell_type": "markdown",
   "id": "779f8ef4",
   "metadata": {},
   "source": [
    "<div class=\"alert alert-success\">\n",
    "    \n",
    "Edite na resposta o caminho para a imagem!\n",
    "    \n",
    "<img src=\"img/diagrama.png\">\n",
    "\n",
    "</div>"
   ]
  },
  {
   "cell_type": "markdown",
   "id": "afba7943",
   "metadata": {},
   "source": [
    "**Opcional**: caso julgue necessário, utilize o bloco abaixo para justificar decisões tomadas no desenho do diagrama."
   ]
  },
  {
   "cell_type": "markdown",
   "id": "e6770762",
   "metadata": {},
   "source": [
    "<div class=\"alert alert-success\">\n",
    "    \n",
    "Seu texto AQUI!\n",
    "\n",
    "</div>"
   ]
  },
  {
   "cell_type": "markdown",
   "id": "f513cf32",
   "metadata": {},
   "source": [
    "**Exercício 8**: Cole a **DDL** para criação da tabela de `organizadores`."
   ]
  },
  {
   "cell_type": "markdown",
   "id": "7399f161",
   "metadata": {},
   "source": [
    "<div class=\"alert alert-success\">\n",
    "\n",
    "```mysql\n",
    "\n",
    "CREATE TABLE organizadores(\n",
    "    conf_id INT NOT NULL,\n",
    "    idaluno INT NOT NULL,\n",
    "    idcargo INT NOT NULL,\n",
    "    FOREIGN KEY (conf_id) REFERENCES confraternizacao(conf_id),\n",
    "    FOREIGN KEY (idaluno) REFERENCES aluno(idaluno),\n",
    "    FOREIGN KEY (idcargo) REFERENCES cargo(idcargo),\n",
    "    PRIMARY KEY(conf_id, idaluno)\n",
    ");\n",
    "\n",
    "```\n",
    "\n",
    "</div>"
   ]
  },
  {
   "cell_type": "markdown",
   "id": "e2f02a4b",
   "metadata": {},
   "source": [
    "**Exercício 9**: Cole a **DML** para inserir um registro na tabela de `organizadores`. Utilize dados quaisquer!\n",
    "\n",
    "**Obs**: a query precisa estar correta, mas não necessariamente irá rodar no notebook do professor (pois pode depender de chaves estrangeiras). Não é obrigatório (nem vale nota) que você gaste tempo preenchendo valores em outras tabelas para que a query de fato funcione, mas tudo bem caso queira fazer assim!"
   ]
  },
  {
   "cell_type": "markdown",
   "id": "d3b6a6b0",
   "metadata": {},
   "source": [
    "<div class=\"alert alert-success\">\n",
    "\n",
    "```mysql\n",
    "\n",
    "INSERT INTO organizadores(conf_id, idaluno, idcargo)\n",
    "VALUES(1,3,9)\n",
    "\n",
    "```\n",
    "\n",
    "</div>"
   ]
  },
  {
   "cell_type": "markdown",
   "id": "e72905f3",
   "metadata": {},
   "source": [
    "**Exercício 10**: Discorra sobre as diferenças entre os relacionamentos identificadores e não-identificadores.\n",
    "\n",
    "Esta questão será corrigida considerando a seguinte subrica:\n",
    "| Conceito | Nota | Descrição                                                                                                                                               |\n",
    "|:----------:|----------:|:---------------------------------------------------------------------------------------------------------------------------------------------------------|\n",
    "| I        | 0.0 |Apenas citou o assunto ou alguns fatos sem explicações                                                                                                  |\n",
    "| D        | 0.3 |Explicou superficialmente o assunto ou fatos mas sem muitos detalhes conclusivos                                                                        |\n",
    "| C        | 0.6 |Explicou com detalhes, apresentando definições concretas.                                                                                               |\n",
    "| B        | 0.8 |Explicou com detalhes, apresentando definições concretas e exemplos de uso.                                                                            |\n",
    "| A        | 1.0 |Explicou com detalhes, apresentando definições concretas, exemplos de uso e ainda outros tópicos correlatos, fazendo uma conexão lógica entre eles. |"
   ]
  },
  {
   "cell_type": "markdown",
   "id": "fc7bc2d7",
   "metadata": {},
   "source": [
    "<div class=\"alert alert-success\">\n",
    "Relacionamentos identificadores ocorrem quando uma entidade só existe vinculada a outra, herdando sua chave primária. Ex.: organizadores, cuja PK é composta por conf_id e idaluno.\n",
    "Já os não-identificadores acontecem quando a entidade tem chave primária própria e apenas referencia outra por meio de FK. Ex.: ingresso, que tem idingresso como PK independente, mas relaciona-se com aluno e confraternizacao.\n",
    "\n",
    "Assim, o identificador define a identidade da entidade dependente, enquanto o não-identificador apenas estabelece vínculo referencial.\n",
    "\n",
    "</div>"
   ]
  },
  {
   "cell_type": "markdown",
   "id": "c0871f09",
   "metadata": {},
   "source": [
    "## Entrega!\n",
    "\n",
    "É hora de entregar. Faça um **zip** do notebook + imagens chamado `ai_megadados.zip` e submeta no Blackboard!\n",
    "\n",
    "**Obs**:\n",
    "- `zip`, não use `rar`!\n",
    "- Não precisa entregar os scripts fornecidos pelo professor (pasta scripts)"
   ]
  }
 ],
 "metadata": {
  "kernelspec": {
   "display_name": "venv",
   "language": "python",
   "name": "python3"
  },
  "language_info": {
   "codemirror_mode": {
    "name": "ipython",
    "version": 3
   },
   "file_extension": ".py",
   "mimetype": "text/x-python",
   "name": "python",
   "nbconvert_exporter": "python",
   "pygments_lexer": "ipython3",
   "version": "3.12.10"
  }
 },
 "nbformat": 4,
 "nbformat_minor": 5
}
